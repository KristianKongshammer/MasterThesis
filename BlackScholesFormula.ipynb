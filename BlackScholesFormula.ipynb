{
 "cells": [
  {
   "cell_type": "markdown",
   "metadata": {
    "pycharm": {
     "name": "#%% md\n"
    }
   },
   "source": [
    "# Rolf Black Scholes functions in Python\n",
    "### It is now working in Python\n",
    "opttype=1 Call\n",
    "opttype=2 Put\n",
    "opttype=4 ??\n",
    "greektype=1 Price\n",
    "greektype=2 delta\n",
    "greektype=3 Gamma\n",
    "greektype=4 Vega"
   ]
  },
  {
   "cell_type": "code",
   "execution_count": 5,
   "metadata": {
    "pycharm": {
     "name": "#%%\n"
    }
   },
   "outputs": [],
   "source": [
    "import numpy as np\n",
    "from scipy.stats import norm\n",
    "from scipy.optimize import brentq as root"
   ]
  },
  {
   "cell_type": "code",
   "execution_count": 6,
   "metadata": {
    "pycharm": {
     "name": "#%%\n"
    }
   },
   "outputs": [],
   "source": [
    "def BlackScholesFormula(spot,timetomat,strike,r,sigma,q=0,opttype=1,greektype=1):\n",
    "    d1 = (np.log(spot/strike)+ ((r-q)+0.5*sigma**2)*timetomat)/(sigma*np.sqrt(timetomat))\n",
    "    d2 = d1-sigma*np.sqrt(timetomat)\n",
    "    \n",
    "    if opttype==1 and greektype==1:\n",
    "        result = spot*np.exp(-q*timetomat)*norm.cdf(d1)-strike*np.exp(-r*timetomat)*norm.cdf(d2)\n",
    "    \n",
    "    if opttype==2 and greektype==1:\n",
    "        result = spot*np.exp(-q*timetomat)*norm.cdf(d1)-strike*np.exp(-r*timetomat)*norm.cdf(d2)-spot*np.exp(-q*timetomat)+strike*np.exp(-r*timetomat)\n",
    "\n",
    "    if opttype==4 and greektype==1:\n",
    "        result = (spot**2)*np.exp((r+sigma**2)*timetomat)\n",
    "    if opttype==4 and greektype==2:\n",
    "        result = 2*spot*np.exp((r+sigma**2)*timetomat)\n",
    "\n",
    "    if opttype==1 and greektype==2:\n",
    "        result = np.exp(-q*timetomat)*norm.cdf(d1)\n",
    "\n",
    "    if opttype==2 and greektype==2:\n",
    "        result = np.exp(-q*timetomat)*(norm.cdf(d1)-1)\n",
    "\n",
    "    if greektype==3:\n",
    "        result = np.exp(-q*timetomat)*dnorm(d1)/(spot*sigma*np.sqrt(timetomat))\n",
    "\n",
    "    if greektype==4:\n",
    "        result = np.exp(-q*timetomat)*spot*dnorm(d1)*np.sqrt(timetomat)\n",
    "\n",
    "    return result"
   ]
  },
  {
   "cell_type": "code",
   "execution_count": null,
   "outputs": [],
   "source": [
    "def BlackScholesImpVol(obsprice,spot,timetomat,strike,r, q=0, opttype=1):\n",
    "    def difference(sigBS,obsprice,spot,timetomat,strike,r,q,opttype):\n",
    "        return BlackScholesFormula(spot,timetomat,strike,r,sigBS,q, opttype,1)-obsprice\n",
    "  \n",
    "    return root(difference,10**(-6),10,args=(obsprice,spot,timetomat,strike,r,q,opttype))\n",
    "\n"
   ],
   "metadata": {
    "collapsed": false,
    "pycharm": {
     "name": "#%%\n"
    }
   }
  }
 ],
 "metadata": {
  "kernelspec": {
   "display_name": "Python 3",
   "language": "python",
   "name": "python3"
  },
  "language_info": {
   "codemirror_mode": {
    "name": "ipython",
    "version": 3
   },
   "file_extension": ".py",
   "mimetype": "text/x-python",
   "name": "python",
   "nbconvert_exporter": "python",
   "pygments_lexer": "ipython3",
   "version": "3.8.5"
  }
 },
 "nbformat": 4,
 "nbformat_minor": 4
}