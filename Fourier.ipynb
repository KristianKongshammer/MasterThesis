{
 "cells": [
  {
   "cell_type": "markdown",
   "metadata": {
    "pycharm": {
     "name": "#%% md\n"
    }
   },
   "source": [
    "# Rolf Fourier functions in python\n",
    "### It is now working in Python\n",
    "greektype=1 Price,\n",
    "greektype=2 delta,\n",
    "greektype=3 Gamma,\n",
    "greektype=4 Vega, \n",
    "Only the last function is not translated as we probably does not need it"
   ]
  },
  {
   "cell_type": "code",
   "execution_count": 1,
   "metadata": {
    "pycharm": {
     "name": "#%%\n"
    }
   },
   "outputs": [],
   "source": [
    "import numpy as np\n",
    "from scipy.stats import norm\n",
    "from scipy.optimize import brentq as root\n",
    "import scipy.integrate as integrate"
   ]
  },
  {
   "cell_type": "code",
   "execution_count": 2,
   "metadata": {
    "pycharm": {
     "name": "#%%\n"
    }
   },
   "outputs": [],
   "source": [
    "def BSFourier(spot,timetoexp,strike,r,divyield,sigma,greek=1):\n",
    "    X=np.log(spot/strike)+(r-divyield)*timetoexp\n",
    "    def integrand(k):\n",
    "        return (np.exp( (-1j*k+0.5)*X- 0.5*(k**2+0.25)*sigma**2*timetoexp)/(k**2+0.25)).real\n",
    "    dummy=integrate.quad(integrand,-np.inf,np.inf)[0]\n",
    "    return np.exp(-divyield*timetoexp)*spot-strike*np.exp(-r*timetoexp)*dummy/(2*np.pi)"
   ]
  },
  {
   "cell_type": "code",
   "execution_count": 3,
   "metadata": {
    "pycharm": {
     "name": "#%%\n"
    }
   },
   "outputs": [],
   "source": [
    "def HestonFourier(spot,timetoexp,strike,r,divyield,V,theta,kappa,epsilon,rho,greek=1):\n",
    "    X = np.log(spot/strike)+(r-divyield)*timetoexp\n",
    "    kappahat = kappa-0.5*rho*epsilon\n",
    "    xiDummy = kappahat**2+0.25*epsilon**2\n",
    "    \n",
    "    def integrand(k):\n",
    "        xi = np.sqrt(k**2*epsilon**2*(1-rho**2)+2j*k*epsilon*rho*kappahat+xiDummy)\n",
    "        PsiP = -(1j*k*rho*epsilon+kappahat)+xi\n",
    "        PsiM = (1j*k*rho*epsilon+kappahat)+xi\n",
    "        alpha = -kappa*theta*(PsiP*timetoexp + 2*np.log((PsiM + PsiP*np.exp(-xi*timetoexp))/(2*xi)))/epsilon**2\n",
    "        beta = -(1-np.exp(-xi*timetoexp))/(PsiM + PsiP*np.exp(-xi*timetoexp))\n",
    "        numerator = np.exp((-1j*k+0.5)*X+alpha+(k**2+0.25)*beta*V)\n",
    "\n",
    "        if(greek==1):\n",
    "            dummy = (numerator/(k**2+0.25)).real\n",
    "        if(greek==2):\n",
    "            dummy = ((0.5-1j*k)*numerator/(spot*(k**2+0.25))).real\n",
    "        if(greek==3):\n",
    "            dummy = -(numerator/spot**2).real\n",
    "        if(greek==4):\n",
    "            dummy = (numerator*beta).real\n",
    "    \n",
    "        return dummy\n",
    "\n",
    "    dummy=integrate.quad(integrand,-100,100)[0] #stop.on.error = FALSE skal det med på noget måde?\n",
    "\n",
    "    if (greek==1):\n",
    "        dummy = np.exp(-divyield*timetoexp)*spot-strike*np.exp(-r*timetoexp)*dummy/(2*np.pi)\n",
    "\n",
    "    if(greek==2):\n",
    "        dummy = np.exp(-divyield*timetoexp)-strike*np.exp(-r*timetoexp)*dummy/(2*np.pi)\n",
    "\n",
    "    if(greek==3):\n",
    "        dummy = -strike*np.exp(-r*timetoexp)*dummy/(2*np.pi)\n",
    "  \n",
    "    if(greek==4):\n",
    "        dummy = -strike*np.exp(-r*timetoexp)*dummy/(2*np.pi)\n",
    "\n",
    "    return dummy "
   ]
  },
  {
   "cell_type": "code",
   "execution_count": null,
   "outputs": [],
   "source": [
    "# I dont think we need this function.\n",
    "#Andreasen.Fourier <- function(spot,timetoexp,strike,Z,lambda,beta,epsilon){\n",
    "\n",
    "#X<-log(spot/strike)\n",
    "\n",
    "#integrand<-function(k){\n",
    "#    neweps<-lambda*epsilon\n",
    "#    xi<-sqrt(k^2*neweps^2+beta^2+0.25*neweps^2)\n",
    "#    Psi.P<--beta+xi\n",
    "#    Psi.M<-beta+xi\n",
    "#    A<--beta*(Psi.P*timetoexp + 2*log((Psi.M + Psi.P*exp(-xi*timetoexp))/(2*xi)))/(epsilon^2)\n",
    "#    B<-(1-exp(-xi*timetoexp))/(Psi.M + Psi.P*exp(-xi*timetoexp))\n",
    "#    integrand<-Re(exp( (-1i*k+0.5)*X+A-(k^2+0.25)*B*lambda^2*Z)/(k^2+0.25))\n",
    "#  } \n",
    "\n",
    "#  dummy<-integrate(integrand,lower=-Inf,upper=Inf)$value\n",
    "\n",
    "# Andreasen.Fourier<-spot-strike*dummy/(2*pi)\n",
    "  \n",
    "#}"
   ],
   "metadata": {
    "collapsed": false,
    "pycharm": {
     "name": "#%%\n"
    }
   }
  }
 ],
 "metadata": {
  "kernelspec": {
   "display_name": "Python 3",
   "language": "python",
   "name": "python3"
  },
  "language_info": {
   "codemirror_mode": {
    "name": "ipython",
    "version": 3
   },
   "file_extension": ".py",
   "mimetype": "text/x-python",
   "name": "python",
   "nbconvert_exporter": "python",
   "pygments_lexer": "ipython3",
   "version": "3.8.5"
  }
 },
 "nbformat": 4,
 "nbformat_minor": 4
}