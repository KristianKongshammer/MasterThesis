{
 "cells": [
  {
   "cell_type": "markdown",
   "metadata": {
    "pycharm": {
     "name": "#%% md\n"
    }
   },
   "source": [
    "# Loss functions used."
   ]
  },
  {
   "cell_type": "markdown",
   "metadata": {
    "pycharm": {
     "name": "#%% md\n"
    }
   },
   "source": [
    "## FFNN"
   ]
  },
  {
   "cell_type": "code",
   "execution_count": 2,
   "metadata": {
    "pycharm": {
     "name": "#%%\n"
    }
   },
   "outputs": [],
   "source": [
    "#Quadratic loss on call option\n",
    "def loss_call(y_true,y_pred):\n",
    "    if TC==True:\n",
    "        TransactionCost=Proportional_cost(y_true,y_pred)\n",
    "    else:\n",
    "        TransactionCost=0\n",
    "    return (callprice + kb.sum(y_pred * y_true,axis=-1) - kb.maximum(S0 + kb.sum(y_true[:,::2],axis=-1) - K,0.)-TransactionCost)**2\n",
    "\n",
    "def loss_digi_call(y_true,y_pred):\n",
    "    if TC==True:\n",
    "        TransactionCost=Proportional_cost(y_true,y_pred)\n",
    "    else:\n",
    "        TransactionCost=0\n",
    "    hedge_pf_payoff = kb.sum(y_pred * y_true,axis=-1)\n",
    "    option_payoff = kb.maximum(S0 + kb.sum(y_true[:,::2],axis=-1) - K,0.)/(S0+kb.sum(y_true[:,::2],axis=-1)-K)\n",
    "    return (digiprice + hedge_pf_payoff - option_payoff - TransactionCost)**2\n",
    "\n",
    "def loss_call_spread(y_true,y_pred):\n",
    "    if TC==True:\n",
    "        TransactionCost=Proportional_cost(y_true,y_pred)\n",
    "    else:\n",
    "        TransactionCost=0\n",
    "    hedge_pf_payoff = kb.sum(y_pred * y_true,axis=-1)\n",
    "    call_long = kb.maximum(S0 + kb.sum(y_true[:,::2],axis=-1) - K1,0.)\n",
    "    call_short = kb.maximum(S0 + kb.sum(y_true[:,::2],axis=-1) - K2,0.)\n",
    "    option_payoff = (call_long-call_short)/(K2-K1)\n",
    "    return (callspread_price + hedge_pf_payoff - option_payoff - TransactionCost)**2"
   ]
  },
  {
   "cell_type": "code",
   "execution_count": 1,
   "metadata": {
    "pycharm": {
     "name": "#%%\n"
    }
   },
   "outputs": [],
   "source": [
    "#transaction costs\n",
    "def Proportional_cost(dS,deltas):#we could also call the input y_pred,y_true,epsilon\n",
    "    \n",
    "    #finding changes to pf.\n",
    "    delta1=deltas[:,::2]\n",
    "    delta2=deltas[:,1::2]\n",
    "    \n",
    "    #for initial TC\n",
    "    delta1_t0=delta1[:,0]\n",
    "    delta2_t0=delta2[:,0]\n",
    "    \n",
    "    #for terminal TC\n",
    "    delta1_tT=delta1[:,steps-1]\n",
    "    delta2_tT=delta2[:,steps-1]\n",
    "    \n",
    "    #for intermediate TC\n",
    "    #finding changes to pf.\n",
    "    delta1_I=kb.abs(tf.subtract(delta1[:,1:],delta1[:,:-1]))\n",
    "    delta2_I=kb.abs(tf.subtract(delta2[:,1:],delta2[:,:-1]))\n",
    "    \n",
    "    #finding asset prices.\n",
    "    dS1=dS[:,::2]\n",
    "    dS2=dS[:,1::2]\n",
    "    S1=tf.math.cumsum(dS1)+S0\n",
    "    S2=tf.math.cumsum(dS2)+L(0,V0)#L function is initial price of Swap\n",
    "    \n",
    "    #for initial TC\n",
    "    S1_t0=S0\n",
    "    S2_t0=L(0,V0)\n",
    "    \n",
    "    #for terminal TC\n",
    "    S1_tT=S1[:,steps-1]\n",
    "    S2_tT=S2[:,steps-1]\n",
    "    \n",
    "    #for intermediate TC.\n",
    "    #(We remove the price in the last time step)\n",
    "    S1_I=tf.slice(S1,[0,0],[S1.get_shape()[0],steps-1])\n",
    "    S2_I=tf.slice(S2,[0,0],[S2.get_shape()[0],steps-1])\n",
    "    \n",
    "    #initial TC\n",
    "    TCS1_0=epsilon*kb.abs(delta1_t0)*S1_t0\n",
    "    TCS2_0=epsilon*kb.abs(delta2_t0)*S2_t0\n",
    "    \n",
    "    #Terminal TC\n",
    "    TCS1_T=epsilon*kb.abs(delta1_tT)*S1_tT\n",
    "    TCS2_T=epsilon*kb.abs(delta2_tT)*S2_tT\n",
    "    \n",
    "    #Intermediate TC\n",
    "    TCS1_I=epsilon*kb.sum(delta1_I*S1_I,axis=1)\n",
    "    TCS2_I=epsilon*kb.sum(delta2_I*S2_I,axis=1)\n",
    "    \n",
    "    Cost=TCS1_0+TCS2_0+TCS1_I+TCS2_I+TCS1_T+TCS2_T\n",
    "    return Cost\n",
    "\n",
    "#¤consider implementing other types of transacton cost"
   ]
  },
  {
   "cell_type": "code",
   "execution_count": 1,
   "metadata": {
    "pycharm": {
     "name": "#%%\n"
    }
   },
   "outputs": [],
   "source": [
    "#ES - not used\n",
    "def loss_ES(y_true,y_pred):\n",
    "    if TC==True:\n",
    "        TransactionCost=kb.mean(Proportional_cost(y_true,y_pred))\n",
    "    else:\n",
    "        TransactionCost=0\n",
    "    #we have a minus in front b/c we need the loss\n",
    "    pf_loss=-(callprice + kb.sum(y_pred * y_true,axis=-1) - kb.maximum(S0 + kb.sum(y_true[:,::2],axis=-1) - K,0.)-TransactionCost)#do we need a minus here?\n",
    "    quantile,idx=tf.math.top_k(pf_loss,tf.cast((1-alpha)*pf_loss.shape[0], tf.int32))\n",
    "    ES_alphas=kb.mean(quantile)\n",
    "    #sortet = tf.sort(pf_loss)\n",
    "    #cutoff = int(tfnp.floor(alpha*sortet.shape[0]))\n",
    "    #quantile = sortet[:cutoff]\n",
    "    #ES_alpha = -kb.mean(quantile)\n",
    "    return ES_alpha#tf.repeat(ES_alpha,pf_loss.shape[0])#not sure this is supposed to be like this."
   ]
  },
  {
   "cell_type": "markdown",
   "metadata": {
    "pycharm": {
     "name": "#%% md\n"
    }
   },
   "source": [
    "## RNN"
   ]
  },
  {
   "cell_type": "code",
   "execution_count": null,
   "metadata": {
    "pycharm": {
     "name": "#%%\n"
    }
   },
   "outputs": [],
   "source": [
    "def loss_call_RNN(y_true,y_pred):\n",
    "    if TC==True:\n",
    "        TransactionCost=Proportional_cost_RNN(y_true,y_pred)\n",
    "    else:\n",
    "        TransactionCost=0\n",
    "    return (callprice + kb.sum(y_pred * y_true,axis=(1,2)) - kb.maximum(S0 + kb.sum(y_true[:,:,::2],axis=(1,2)) - K,0.)-TransactionCost)**2"
   ]
  },
  {
   "cell_type": "code",
   "execution_count": null,
   "metadata": {
    "pycharm": {
     "name": "#%%\n"
    }
   },
   "outputs": [],
   "source": [
    "def Proportional_cost_RNN(dS,deltas):#we could also call the input y_pred,y_true,epsilon\n",
    "    \n",
    "    #finding changes to pf.\n",
    "    delta1=deltas[:,:,0]#changed\n",
    "    delta2=deltas[:,:,1]#changed\n",
    "    \n",
    "    #for initial TC\n",
    "    delta1_t0=delta1[:,0]#ok\n",
    "    delta2_t0=delta2[:,0]#ok\n",
    "    \n",
    "    #for terminal TC\n",
    "    delta1_tT=delta1[:,steps-1]#ok\n",
    "    delta2_tT=delta2[:,steps-1]#ok\n",
    "    \n",
    "    #for intermediate TC\n",
    "    #finding changes to pf.\n",
    "    delta1_I=kb.abs(tf.subtract(delta1[:,1:],delta1[:,:-1]))#ok\n",
    "    delta2_I=kb.abs(tf.subtract(delta2[:,1:],delta2[:,:-1]))#ok\n",
    "    \n",
    "    #finding asset prices.\n",
    "    dS1=dS[:,:,0]#changed\n",
    "    dS2=dS[:,:,1]#changed\n",
    "    S1=tf.math.cumsum(dS1)+S0#ok\n",
    "    S2=tf.math.cumsum(dS2)+L(0,V0)#L function is initial price of Swap #ok\n",
    "    \n",
    "    #for initial TC\n",
    "    S1_t0=S0#ok\n",
    "    S2_t0=L(0,V0)#ok\n",
    "    \n",
    "    #for terminal TC\n",
    "    S1_tT=S1[:,steps-1]#ok\n",
    "    S2_tT=S2[:,steps-1]#ok\n",
    "    \n",
    "    #for intermediate TC.\n",
    "    #(We remove the price in the last time step)\n",
    "    S1_I=tf.slice(S1,[0,0],[S1.get_shape()[0],steps-1])#ok\n",
    "    S2_I=tf.slice(S2,[0,0],[S2.get_shape()[0],steps-1])#ok\n",
    "    \n",
    "    #initial TC\n",
    "    TCS1_0=epsilon*kb.abs(delta1_t0)*S1_t0#ok\n",
    "    TCS2_0=epsilon*kb.abs(delta2_t0)*S2_t0#ok\n",
    "    \n",
    "    #Terminal TC\n",
    "    TCS1_T=epsilon*kb.abs(delta1_tT)*S1_tT#ok\n",
    "    TCS2_T=epsilon*kb.abs(delta2_tT)*S2_tT#ok\n",
    "    \n",
    "    #Intermediate TC\n",
    "    TCS1_I=epsilon*kb.sum(delta1_I*S1_I,axis=1)#ok\n",
    "    TCS2_I=epsilon*kb.sum(delta2_I*S2_I,axis=1)#ok\n",
    "    \n",
    "    Cost=TCS1_0+TCS2_0+TCS1_I+TCS2_I+TCS1_T+TCS2_T\n",
    "    return Cost\n",
    "\n",
    "#consider implementing other types of transacton cost"
   ]
  },
  {
   "cell_type": "code",
   "execution_count": null,
   "metadata": {
    "pycharm": {
     "name": "#%%\n"
    }
   },
   "outputs": [],
   "source": [
    "#not used\n",
    "def loss_ES_RNN(y_true,y_pred):\n",
    "    if TC==True:\n",
    "        TransactionCost=kb.mean(Proportional_cost_RNN(y_true,y_pred))\n",
    "    else:\n",
    "        TransactionCost=0\n",
    "    pf_loss = (callprice + kb.sum(y_pred * y_true,axis=(1,2)) - kb.maximum(S0 + kb.sum(y_true[:,:,::2],axis=(1,2)) - K,0.)-TransactionCost)\n",
    "    sortet = tf.sort(pf_loss)\n",
    "    cutoff = int(tfnp.floor(alpha*sortet.shape[0]))\n",
    "    quantile = sortet[:cutoff]\n",
    "    ES_alpha = -kb.mean(quantile)"
   ]
  }
 ],
 "metadata": {
  "kernelspec": {
   "display_name": "Python 3",
   "language": "python",
   "name": "python3"
  },
  "language_info": {
   "codemirror_mode": {
    "name": "ipython",
    "version": 3
   },
   "file_extension": ".py",
   "mimetype": "text/x-python",
   "name": "python",
   "nbconvert_exporter": "python",
   "pygments_lexer": "ipython3",
   "version": "3.8.5"
  }
 },
 "nbformat": 4,
 "nbformat_minor": 4
}