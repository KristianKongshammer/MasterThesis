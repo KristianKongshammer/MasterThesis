{
 "cells": [
  {
   "cell_type": "markdown",
   "metadata": {
    "pycharm": {
     "name": "#%% md\n"
    }
   },
   "source": [
    "# A Deep Hedging experiment in the Heston model.\n",
    "This code will implement a deep hedging experiment in the heston model with the stock and Swap the tradeable assets."
   ]
  },
  {
   "cell_type": "code",
   "execution_count": 41,
   "metadata": {
    "pycharm": {
     "name": "#%%\n"
    }
   },
   "outputs": [],
   "source": [
    "import numpy as np\n",
    "import numpy.random as npr\n",
    "from scipy.stats import norm\n",
    "from keras.layers import Input, Dense, Concatenate, SimpleRNN, LSTM, GRU, BatchNormalization\n",
    "from keras.models import Model\n",
    "from keras import backend as kb\n",
    "from keras.models import load_model\n",
    "import matplotlib.pyplot as plt\n",
    "import tensorflow as tf\n",
    "import tensorflow.experimental.numpy as tfnp\n",
    "import copy\n",
    "plt.style.use('ggplot')\n",
    "%run Fourier.ipynb #imports Heston option prices\n",
    "%run Path_simulation.ipynb #imports path simulation functions\n",
    "%run Loss_functions.ipynb #imports Loss_functions used\n",
    "%run Neural_Networks.ipynb #imports different types of NN\n",
    "%run Analytic_Heston.ipynb #imports function for S2 price calculation and analytic deltas."
   ]
  },
  {
   "cell_type": "code",
   "execution_count": 42,
   "metadata": {
    "pycharm": {
     "name": "#%%\n"
    }
   },
   "outputs": [],
   "source": [
    "#parameters used - mainly from Buehler Deep Hedging paper.\n",
    "\n",
    "#¤What about feller condition? 2\\kappa\\theta>\\sigma^2 for V_t>0 for all t\\in[0,T]\n",
    "kappa = 1#rate of mean reversion\n",
    "theta = 0.04#long term variance\n",
    "rho = -0.7#correlation b/t BM\n",
    "sigma = 0.2#vol of vol -¤sigma=2 in paper, but maybe it should be 0.2 b/c of Feller condition\n",
    "V0 = 0.04#initial vol\n",
    "r = 0\n",
    "mu = 0.05\n",
    "\n",
    "S0 = 100#initial price\n",
    "n = 100000#number of paths\n",
    "K = 100#strike\n",
    "divyield=0\n",
    "steps = 30#number of rebalancings\n",
    "epochs = 50#Number of times model is trained\n",
    "#new variables\n",
    "T = 30/365#time to expiry\n",
    "dt = T/steps #step size\n",
    "\n",
    "#for call spread option\n",
    "K1=99\n",
    "K2=100\n",
    "\n",
    "#Expected shortfall at level 1-alpha\n",
    "alpha=0.99\n",
    "\n",
    "#Transaction cost\n",
    "TC=False\n",
    "epsilon=0.01\n",
    "\n",
    "#Consider calling the epsilon variable, sigma, instead\n",
    "callprice = HestonFourier(spot=S0, timetoexp=T, strike=K, r=0, divyield=0, V=V0, theta=theta, kappa=kappa, epsilon=sigma, rho=rho, greek=1)"
   ]
  },
  {
   "cell_type": "code",
   "execution_count": 43,
   "metadata": {
    "pycharm": {
     "name": "#%%\n"
    }
   },
   "outputs": [],
   "source": [
    "sigma=10\n",
    "callprice = HestonFourier(spot=S0, timetoexp=T, strike=K, r=0, divyield=0, V=V0, theta=theta, kappa=kappa, epsilon=sigma, rho=rho, greek=1)"
   ]
  },
  {
   "cell_type": "code",
   "execution_count": 44,
   "metadata": {
    "pycharm": {
     "name": "#%%\n"
    }
   },
   "outputs": [],
   "source": [
    "call_long=HestonFourier(spot=S0, timetoexp=T, strike=K1, r=0, divyield=0, V=V0, theta=theta, kappa=kappa, epsilon=sigma, rho=rho, greek=1)\n",
    "call_short=HestonFourier(spot=S0, timetoexp=T, strike=K2, r=0, divyield=0, V=V0, theta=theta, kappa=kappa, epsilon=sigma, rho=rho, greek=1)\n",
    "callspread_price=(call_long-call_short)/(K2-K1)"
   ]
  },
  {
   "cell_type": "code",
   "execution_count": 45,
   "metadata": {
    "pycharm": {
     "name": "#%%\n"
    }
   },
   "outputs": [],
   "source": [
    "S1,vol,S2 = HestonMomentMatching_SV(n)\n",
    "#S1,vol,S2 = HestonFullTruncation_SV(n)\n",
    "tSVinput,dSVoutput = DataInputOutput_HSV(S1,vol,S2) "
   ]
  },
  {
   "cell_type": "code",
   "execution_count": 46,
   "metadata": {
    "pycharm": {
     "name": "#%%\n"
    }
   },
   "outputs": [],
   "source": [
    "tSVinput2,dSVoutput2 = RNN_DataInputOutput_HSV(S1,vol,S2) "
   ]
  },
  {
   "cell_type": "code",
   "execution_count": 47,
   "metadata": {
    "pycharm": {
     "name": "#%%\n"
    }
   },
   "outputs": [
    {
     "data": {
      "text/plain": "(100000, 30, 3)"
     },
     "execution_count": 47,
     "metadata": {},
     "output_type": "execute_result"
    }
   ],
   "source": [
    "tSVinput2.shape"
   ]
  },
  {
   "cell_type": "code",
   "execution_count": 48,
   "metadata": {
    "pycharm": {
     "name": "#%%\n"
    }
   },
   "outputs": [
    {
     "data": {
      "text/plain": "array([[0.        , 4.60517019, 0.04      ],\n       [0.        , 4.60517019, 0.04      ],\n       [0.        , 4.60517019, 0.04      ],\n       ...,\n       [0.        , 4.60517019, 0.04      ],\n       [0.        , 4.60517019, 0.04      ],\n       [0.        , 4.60517019, 0.04      ]])"
     },
     "execution_count": 48,
     "metadata": {},
     "output_type": "execute_result"
    }
   ],
   "source": [
    "tSVinput[0]"
   ]
  },
  {
   "cell_type": "code",
   "execution_count": 49,
   "metadata": {
    "pycharm": {
     "name": "#%%\n"
    }
   },
   "outputs": [
    {
     "data": {
      "text/plain": "(100000, 60)"
     },
     "execution_count": 49,
     "metadata": {},
     "output_type": "execute_result"
    }
   ],
   "source": [
    "dSVoutput.shape"
   ]
  },
  {
   "cell_type": "code",
   "execution_count": 50,
   "metadata": {
    "pycharm": {
     "name": "#%%\n"
    }
   },
   "outputs": [
    {
     "data": {
      "text/plain": "(100000, 30, 2)"
     },
     "execution_count": 50,
     "metadata": {},
     "output_type": "execute_result"
    }
   ],
   "source": [
    "dSVoutput2.shape"
   ]
  },
  {
   "cell_type": "code",
   "execution_count": 51,
   "metadata": {
    "pycharm": {
     "name": "#%%\n"
    }
   },
   "outputs": [
    {
     "data": {
      "text/plain": "3.227011567713709"
     },
     "execution_count": 51,
     "metadata": {},
     "output_type": "execute_result"
    }
   ],
   "source": [
    "S1.min()"
   ]
  },
  {
   "cell_type": "code",
   "execution_count": 52,
   "metadata": {
    "pycharm": {
     "name": "#%%\n"
    }
   },
   "outputs": [
    {
     "data": {
      "text/plain": "3.204242004734618e-11"
     },
     "execution_count": 52,
     "metadata": {},
     "output_type": "execute_result"
    }
   ],
   "source": [
    "vol.min()"
   ]
  },
  {
   "cell_type": "code",
   "execution_count": 53,
   "metadata": {
    "pycharm": {
     "name": "#%%\n"
    }
   },
   "outputs": [
    {
     "data": {
      "text/plain": "34.66887828801357"
     },
     "execution_count": 53,
     "metadata": {},
     "output_type": "execute_result"
    }
   ],
   "source": [
    "vol.max()"
   ]
  },
  {
   "cell_type": "code",
   "execution_count": 53,
   "metadata": {
    "pycharm": {
     "name": "#%%\n"
    }
   },
   "outputs": [],
   "source": []
  },
  {
   "cell_type": "code",
   "execution_count": 54,
   "metadata": {
    "pycharm": {
     "name": "#%%\n"
    }
   },
   "outputs": [],
   "source": [
    "digiprice = np.mean(S1.T[steps]>K)#this MC pricing should be under the Q measure. "
   ]
  },
  {
   "cell_type": "code",
   "execution_count": 55,
   "metadata": {
    "scrolled": true,
    "pycharm": {
     "name": "#%%\n"
    }
   },
   "outputs": [
    {
     "data": {
      "text/plain": "<Figure size 432x288 with 1 Axes>",
      "image/png": "[encoded data removed]"
     },
     "metadata": {},
     "output_type": "display_data"
    },
    {
     "data": {
      "text/plain": "<Figure size 432x288 with 1 Axes>",
      "image/png": "[encoded data removed]"
     },
     "metadata": {},
     "output_type": "display_data"
    },
    {
     "data": {
      "text/plain": "<Figure size 432x288 with 1 Axes>",
      "image/png": "[encoded data removed]"
     },
     "metadata": {},
     "output_type": "display_data"
    }
   ],
   "source": [
    "#This just plots the three first paths as a sanity check (Stock, vol and var SWAP)\n",
    "#From the plot we see that S2 have similar trends as vol. This is promising.\n",
    "#Also the plots looks like German Tobias plots.\n",
    "\n",
    "tim = np.linspace(0,T,steps+1)#Vector of timepoint where pf i adjusted.\n",
    "\n",
    "plt.plot(tim,S1[0],tim,S1[1],tim,S1[2])\n",
    "plt.xlabel(\"Time\")\n",
    "plt.ylabel(\"Price\")\n",
    "plt.show()\n",
    "plt.plot(tim,vol[0],tim,vol[1],tim,vol[2])\n",
    "plt.xlabel(\"Time\")\n",
    "plt.ylabel(\"vol\")\n",
    "plt.show()\n",
    "plt.plot(tim,S2[0],tim,S2[1],tim,S2[2])\n",
    "plt.xlabel(\"Time\")\n",
    "plt.ylabel(\"Price\")\n",
    "plt.show()"
   ]
  },
  {
   "cell_type": "code",
   "execution_count": 56,
   "metadata": {
    "pycharm": {
     "name": "#%%\n"
    }
   },
   "outputs": [],
   "source": [
    "TC=False"
   ]
  },
  {
   "cell_type": "code",
   "execution_count": 57,
   "metadata": {
    "pycharm": {
     "name": "#%%\n"
    }
   },
   "outputs": [],
   "source": [
    "K=85\n",
    "callprice=HestonFourier(spot=S0, timetoexp=T, strike=K, r=0, divyield=0, V=V0, theta=theta, kappa=kappa, epsilon=sigma, rho=rho, greek=1)"
   ]
  },
  {
   "cell_type": "code",
   "execution_count": 58,
   "metadata": {
    "pycharm": {
     "name": "#%%\n"
    }
   },
   "outputs": [],
   "source": [
    "model=FFNN('linear',3,2,loss_call)"
   ]
  },
  {
   "cell_type": "code",
   "execution_count": 59,
   "metadata": {
    "scrolled": true,
    "pycharm": {
     "name": "#%%\n"
    }
   },
   "outputs": [
    {
     "name": "stdout",
     "output_type": "stream",
     "text": [
      "Epoch 1/50\n",
      "1000/1000 [==============================] - 26s 20ms/step - loss: 2.5435\n",
      "Epoch 2/50\n",
      "1000/1000 [==============================] - 28s 28ms/step - loss: 1.9226\n",
      "Epoch 3/50\n",
      "1000/1000 [==============================] - 26s 26ms/step - loss: 1.3857\n",
      "Epoch 4/50\n",
      "1000/1000 [==============================] - 26s 26ms/step - loss: 1.0039\n",
      "Epoch 5/50\n",
      "1000/1000 [==============================] - 25s 25ms/step - loss: 0.9904\n",
      "Epoch 6/50\n",
      "1000/1000 [==============================] - 24s 24ms/step - loss: 0.9120\n",
      "Epoch 7/50\n",
      "1000/1000 [==============================] - 26s 26ms/step - loss: 0.9467\n",
      "Epoch 8/50\n",
      "1000/1000 [==============================] - 25s 25ms/step - loss: 0.9013\n",
      "Epoch 9/50\n",
      "1000/1000 [==============================] - 25s 25ms/step - loss: 0.8608\n",
      "Epoch 10/50\n",
      "1000/1000 [==============================] - 25s 25ms/step - loss: 0.8068\n",
      "Epoch 11/50\n",
      "1000/1000 [==============================] - 24s 24ms/step - loss: 0.7813\n",
      "Epoch 12/50\n",
      "1000/1000 [==============================] - 23s 23ms/step - loss: 0.7227\n",
      "Epoch 13/50\n",
      "1000/1000 [==============================] - 23s 23ms/step - loss: 0.6841\n",
      "Epoch 14/50\n",
      "1000/1000 [==============================] - 24s 24ms/step - loss: 0.6776\n",
      "Epoch 15/50\n",
      "1000/1000 [==============================] - 23s 23ms/step - loss: 0.5672\n",
      "Epoch 16/50\n",
      "1000/1000 [==============================] - 22s 22ms/step - loss: 0.5668\n",
      "Epoch 17/50\n",
      "1000/1000 [==============================] - 22s 22ms/step - loss: 0.5445\n",
      "Epoch 18/50\n",
      "1000/1000 [==============================] - 22s 22ms/step - loss: 0.4703\n",
      "Epoch 19/50\n",
      "1000/1000 [==============================] - 22s 22ms/step - loss: 0.4559\n",
      "Epoch 20/50\n",
      "1000/1000 [==============================] - 22s 22ms/step - loss: 0.4761\n",
      "Epoch 21/50\n",
      "1000/1000 [==============================] - 21s 21ms/step - loss: 0.3998\n",
      "Epoch 22/50\n",
      "1000/1000 [==============================] - 22s 22ms/step - loss: 0.4106\n",
      "Epoch 23/50\n",
      "1000/1000 [==============================] - 21s 21ms/step - loss: 0.4071\n",
      "Epoch 24/50\n",
      "1000/1000 [==============================] - 21s 21ms/step - loss: 0.3946\n",
      "Epoch 25/50\n",
      "1000/1000 [==============================] - 20s 20ms/step - loss: 0.3828\n",
      "Epoch 26/50\n",
      "1000/1000 [==============================] - 21s 21ms/step - loss: 0.3606\n",
      "Epoch 27/50\n",
      "1000/1000 [==============================] - 20s 20ms/step - loss: 0.3769\n",
      "Epoch 28/50\n",
      "1000/1000 [==============================] - 21s 21ms/step - loss: 0.3560\n",
      "Epoch 29/50\n",
      "1000/1000 [==============================] - 20s 20ms/step - loss: 0.3295\n",
      "Epoch 30/50\n",
      "1000/1000 [==============================] - 23s 23ms/step - loss: 0.3732\n",
      "Epoch 31/50\n",
      " 488/1000 [=============>................] - ETA: 12s - loss: 0.3608"
     ]
    },
    {
     "ename": "KeyboardInterrupt",
     "evalue": "",
     "output_type": "error",
     "traceback": [
      "\u001B[0;31m---------------------------------------------------------------------------\u001B[0m",
      "\u001B[0;31mKeyboardInterrupt\u001B[0m                         Traceback (most recent call last)",
      "Input \u001B[0;32mIn [59]\u001B[0m, in \u001B[0;36m<cell line: 1>\u001B[0;34m()\u001B[0m\n\u001B[0;32m----> 1\u001B[0m \u001B[43mmodel\u001B[49m\u001B[38;5;241;43m.\u001B[39;49m\u001B[43mfit\u001B[49m\u001B[43m(\u001B[49m\u001B[43mtSVinput\u001B[49m\u001B[43m,\u001B[49m\u001B[43mdSVoutput\u001B[49m\u001B[43m,\u001B[49m\u001B[43mbatch_size\u001B[49m\u001B[38;5;241;43m=\u001B[39;49m\u001B[38;5;241;43m100\u001B[39;49m\u001B[43m,\u001B[49m\u001B[43mepochs\u001B[49m\u001B[38;5;241;43m=\u001B[39;49m\u001B[38;5;241;43m50\u001B[39;49m\u001B[43m)\u001B[49m\n",
      "File \u001B[0;32m~/Desktop/pythonProject/lib/python3.9/site-packages/keras/utils/traceback_utils.py:64\u001B[0m, in \u001B[0;36mfilter_traceback.<locals>.error_handler\u001B[0;34m(*args, **kwargs)\u001B[0m\n\u001B[1;32m     62\u001B[0m filtered_tb \u001B[38;5;241m=\u001B[39m \u001B[38;5;28;01mNone\u001B[39;00m\n\u001B[1;32m     63\u001B[0m \u001B[38;5;28;01mtry\u001B[39;00m:\n\u001B[0;32m---> 64\u001B[0m   \u001B[38;5;28;01mreturn\u001B[39;00m \u001B[43mfn\u001B[49m\u001B[43m(\u001B[49m\u001B[38;5;241;43m*\u001B[39;49m\u001B[43margs\u001B[49m\u001B[43m,\u001B[49m\u001B[43m \u001B[49m\u001B[38;5;241;43m*\u001B[39;49m\u001B[38;5;241;43m*\u001B[39;49m\u001B[43mkwargs\u001B[49m\u001B[43m)\u001B[49m\n\u001B[1;32m     65\u001B[0m \u001B[38;5;28;01mexcept\u001B[39;00m \u001B[38;5;167;01mException\u001B[39;00m \u001B[38;5;28;01mas\u001B[39;00m e:  \u001B[38;5;66;03m# pylint: disable=broad-except\u001B[39;00m\n\u001B[1;32m     66\u001B[0m   filtered_tb \u001B[38;5;241m=\u001B[39m _process_traceback_frames(e\u001B[38;5;241m.\u001B[39m__traceback__)\n",
      "File \u001B[0;32m~/Desktop/pythonProject/lib/python3.9/site-packages/keras/engine/training.py:1409\u001B[0m, in \u001B[0;36mModel.fit\u001B[0;34m(self, x, y, batch_size, epochs, verbose, callbacks, validation_split, validation_data, shuffle, class_weight, sample_weight, initial_epoch, steps_per_epoch, validation_steps, validation_batch_size, validation_freq, max_queue_size, workers, use_multiprocessing)\u001B[0m\n\u001B[1;32m   1402\u001B[0m \u001B[38;5;28;01mwith\u001B[39;00m tf\u001B[38;5;241m.\u001B[39mprofiler\u001B[38;5;241m.\u001B[39mexperimental\u001B[38;5;241m.\u001B[39mTrace(\n\u001B[1;32m   1403\u001B[0m     \u001B[38;5;124m'\u001B[39m\u001B[38;5;124mtrain\u001B[39m\u001B[38;5;124m'\u001B[39m,\n\u001B[1;32m   1404\u001B[0m     epoch_num\u001B[38;5;241m=\u001B[39mepoch,\n\u001B[1;32m   1405\u001B[0m     step_num\u001B[38;5;241m=\u001B[39mstep,\n\u001B[1;32m   1406\u001B[0m     batch_size\u001B[38;5;241m=\u001B[39mbatch_size,\n\u001B[1;32m   1407\u001B[0m     _r\u001B[38;5;241m=\u001B[39m\u001B[38;5;241m1\u001B[39m):\n\u001B[1;32m   1408\u001B[0m   callbacks\u001B[38;5;241m.\u001B[39mon_train_batch_begin(step)\n\u001B[0;32m-> 1409\u001B[0m   tmp_logs \u001B[38;5;241m=\u001B[39m \u001B[38;5;28;43mself\u001B[39;49m\u001B[38;5;241;43m.\u001B[39;49m\u001B[43mtrain_function\u001B[49m\u001B[43m(\u001B[49m\u001B[43miterator\u001B[49m\u001B[43m)\u001B[49m\n\u001B[1;32m   1410\u001B[0m   \u001B[38;5;28;01mif\u001B[39;00m data_handler\u001B[38;5;241m.\u001B[39mshould_sync:\n\u001B[1;32m   1411\u001B[0m     context\u001B[38;5;241m.\u001B[39masync_wait()\n",
      "File \u001B[0;32m~/Desktop/pythonProject/lib/python3.9/site-packages/tensorflow/python/util/traceback_utils.py:150\u001B[0m, in \u001B[0;36mfilter_traceback.<locals>.error_handler\u001B[0;34m(*args, **kwargs)\u001B[0m\n\u001B[1;32m    148\u001B[0m filtered_tb \u001B[38;5;241m=\u001B[39m \u001B[38;5;28;01mNone\u001B[39;00m\n\u001B[1;32m    149\u001B[0m \u001B[38;5;28;01mtry\u001B[39;00m:\n\u001B[0;32m--> 150\u001B[0m   \u001B[38;5;28;01mreturn\u001B[39;00m \u001B[43mfn\u001B[49m\u001B[43m(\u001B[49m\u001B[38;5;241;43m*\u001B[39;49m\u001B[43margs\u001B[49m\u001B[43m,\u001B[49m\u001B[43m \u001B[49m\u001B[38;5;241;43m*\u001B[39;49m\u001B[38;5;241;43m*\u001B[39;49m\u001B[43mkwargs\u001B[49m\u001B[43m)\u001B[49m\n\u001B[1;32m    151\u001B[0m \u001B[38;5;28;01mexcept\u001B[39;00m \u001B[38;5;167;01mException\u001B[39;00m \u001B[38;5;28;01mas\u001B[39;00m e:\n\u001B[1;32m    152\u001B[0m   filtered_tb \u001B[38;5;241m=\u001B[39m _process_traceback_frames(e\u001B[38;5;241m.\u001B[39m__traceback__)\n",
      "File \u001B[0;32m~/Desktop/pythonProject/lib/python3.9/site-packages/tensorflow/python/eager/def_function.py:915\u001B[0m, in \u001B[0;36mFunction.__call__\u001B[0;34m(self, *args, **kwds)\u001B[0m\n\u001B[1;32m    912\u001B[0m compiler \u001B[38;5;241m=\u001B[39m \u001B[38;5;124m\"\u001B[39m\u001B[38;5;124mxla\u001B[39m\u001B[38;5;124m\"\u001B[39m \u001B[38;5;28;01mif\u001B[39;00m \u001B[38;5;28mself\u001B[39m\u001B[38;5;241m.\u001B[39m_jit_compile \u001B[38;5;28;01melse\u001B[39;00m \u001B[38;5;124m\"\u001B[39m\u001B[38;5;124mnonXla\u001B[39m\u001B[38;5;124m\"\u001B[39m\n\u001B[1;32m    914\u001B[0m \u001B[38;5;28;01mwith\u001B[39;00m OptionalXlaContext(\u001B[38;5;28mself\u001B[39m\u001B[38;5;241m.\u001B[39m_jit_compile):\n\u001B[0;32m--> 915\u001B[0m   result \u001B[38;5;241m=\u001B[39m \u001B[38;5;28;43mself\u001B[39;49m\u001B[38;5;241;43m.\u001B[39;49m\u001B[43m_call\u001B[49m\u001B[43m(\u001B[49m\u001B[38;5;241;43m*\u001B[39;49m\u001B[43margs\u001B[49m\u001B[43m,\u001B[49m\u001B[43m \u001B[49m\u001B[38;5;241;43m*\u001B[39;49m\u001B[38;5;241;43m*\u001B[39;49m\u001B[43mkwds\u001B[49m\u001B[43m)\u001B[49m\n\u001B[1;32m    917\u001B[0m new_tracing_count \u001B[38;5;241m=\u001B[39m \u001B[38;5;28mself\u001B[39m\u001B[38;5;241m.\u001B[39mexperimental_get_tracing_count()\n\u001B[1;32m    918\u001B[0m without_tracing \u001B[38;5;241m=\u001B[39m (tracing_count \u001B[38;5;241m==\u001B[39m new_tracing_count)\n",
      "File \u001B[0;32m~/Desktop/pythonProject/lib/python3.9/site-packages/tensorflow/python/eager/def_function.py:947\u001B[0m, in \u001B[0;36mFunction._call\u001B[0;34m(self, *args, **kwds)\u001B[0m\n\u001B[1;32m    944\u001B[0m   \u001B[38;5;28mself\u001B[39m\u001B[38;5;241m.\u001B[39m_lock\u001B[38;5;241m.\u001B[39mrelease()\n\u001B[1;32m    945\u001B[0m   \u001B[38;5;66;03m# In this case we have created variables on the first call, so we run the\u001B[39;00m\n\u001B[1;32m    946\u001B[0m   \u001B[38;5;66;03m# defunned version which is guaranteed to never create variables.\u001B[39;00m\n\u001B[0;32m--> 947\u001B[0m   \u001B[38;5;28;01mreturn\u001B[39;00m \u001B[38;5;28;43mself\u001B[39;49m\u001B[38;5;241;43m.\u001B[39;49m\u001B[43m_stateless_fn\u001B[49m\u001B[43m(\u001B[49m\u001B[38;5;241;43m*\u001B[39;49m\u001B[43margs\u001B[49m\u001B[43m,\u001B[49m\u001B[43m \u001B[49m\u001B[38;5;241;43m*\u001B[39;49m\u001B[38;5;241;43m*\u001B[39;49m\u001B[43mkwds\u001B[49m\u001B[43m)\u001B[49m  \u001B[38;5;66;03m# pylint: disable=not-callable\u001B[39;00m\n\u001B[1;32m    948\u001B[0m \u001B[38;5;28;01melif\u001B[39;00m \u001B[38;5;28mself\u001B[39m\u001B[38;5;241m.\u001B[39m_stateful_fn \u001B[38;5;129;01mis\u001B[39;00m \u001B[38;5;129;01mnot\u001B[39;00m \u001B[38;5;28;01mNone\u001B[39;00m:\n\u001B[1;32m    949\u001B[0m   \u001B[38;5;66;03m# Release the lock early so that multiple threads can perform the call\u001B[39;00m\n\u001B[1;32m    950\u001B[0m   \u001B[38;5;66;03m# in parallel.\u001B[39;00m\n\u001B[1;32m    951\u001B[0m   \u001B[38;5;28mself\u001B[39m\u001B[38;5;241m.\u001B[39m_lock\u001B[38;5;241m.\u001B[39mrelease()\n",
      "File \u001B[0;32m~/Desktop/pythonProject/lib/python3.9/site-packages/tensorflow/python/eager/function.py:2452\u001B[0m, in \u001B[0;36mFunction.__call__\u001B[0;34m(self, *args, **kwargs)\u001B[0m\n\u001B[1;32m   2449\u001B[0m \u001B[38;5;124;03m\"\"\"Calls a graph function specialized to the inputs.\"\"\"\u001B[39;00m\n\u001B[1;32m   2450\u001B[0m \u001B[38;5;28;01mwith\u001B[39;00m \u001B[38;5;28mself\u001B[39m\u001B[38;5;241m.\u001B[39m_lock:\n\u001B[1;32m   2451\u001B[0m   (graph_function,\n\u001B[0;32m-> 2452\u001B[0m    filtered_flat_args) \u001B[38;5;241m=\u001B[39m \u001B[38;5;28;43mself\u001B[39;49m\u001B[38;5;241;43m.\u001B[39;49m\u001B[43m_maybe_define_function\u001B[49m\u001B[43m(\u001B[49m\u001B[43margs\u001B[49m\u001B[43m,\u001B[49m\u001B[43m \u001B[49m\u001B[43mkwargs\u001B[49m\u001B[43m)\u001B[49m\n\u001B[1;32m   2453\u001B[0m \u001B[38;5;28;01mreturn\u001B[39;00m graph_function\u001B[38;5;241m.\u001B[39m_call_flat(\n\u001B[1;32m   2454\u001B[0m     filtered_flat_args, captured_inputs\u001B[38;5;241m=\u001B[39mgraph_function\u001B[38;5;241m.\u001B[39mcaptured_inputs)\n",
      "File \u001B[0;32m~/Desktop/pythonProject/lib/python3.9/site-packages/tensorflow/python/eager/function.py:2683\u001B[0m, in \u001B[0;36mFunction._maybe_define_function\u001B[0;34m(self, args, kwargs)\u001B[0m\n\u001B[1;32m   2679\u001B[0m   cache_key, cache_key_deletion_observer \u001B[38;5;241m=\u001B[39m function_context\u001B[38;5;241m.\u001B[39mmake_cache_key(\n\u001B[1;32m   2680\u001B[0m       \u001B[38;5;28mself\u001B[39m\u001B[38;5;241m.\u001B[39mflat_input_signature)\n\u001B[1;32m   2682\u001B[0m \u001B[38;5;28;01mtry\u001B[39;00m:\n\u001B[0;32m-> 2683\u001B[0m   \u001B[38;5;28;43mhash\u001B[39;49m\u001B[43m(\u001B[49m\u001B[43mcache_key\u001B[49m\u001B[43m)\u001B[49m\n\u001B[1;32m   2684\u001B[0m \u001B[38;5;28;01mexcept\u001B[39;00m \u001B[38;5;167;01mTypeError\u001B[39;00m \u001B[38;5;28;01mas\u001B[39;00m e:\n\u001B[1;32m   2685\u001B[0m   \u001B[38;5;28;01mraise\u001B[39;00m \u001B[38;5;167;01mTypeError\u001B[39;00m(\n\u001B[1;32m   2686\u001B[0m       \u001B[38;5;124m\"\u001B[39m\u001B[38;5;124mArguments supplied to `defun`-generated functions must be \u001B[39m\u001B[38;5;124m\"\u001B[39m\n\u001B[1;32m   2687\u001B[0m       \u001B[38;5;124mf\u001B[39m\u001B[38;5;124m\"\u001B[39m\u001B[38;5;124mhashable.  Original error: \u001B[39m\u001B[38;5;132;01m{\u001B[39;00me\u001B[38;5;132;01m}\u001B[39;00m\u001B[38;5;124m.\u001B[39m\u001B[38;5;124m\"\u001B[39m)\n",
      "File \u001B[0;32m~/Desktop/pythonProject/lib/python3.9/site-packages/tensorflow/core/function/polymorphism/function_cache.py:76\u001B[0m, in \u001B[0;36mFunctionCacheKey.__hash__\u001B[0;34m(self)\u001B[0m\n\u001B[1;32m     75\u001B[0m \u001B[38;5;28;01mdef\u001B[39;00m \u001B[38;5;21m__hash__\u001B[39m(\u001B[38;5;28mself\u001B[39m) \u001B[38;5;241m-\u001B[39m\u001B[38;5;241m>\u001B[39m \u001B[38;5;28mint\u001B[39m:\n\u001B[0;32m---> 76\u001B[0m   \u001B[38;5;28;01mreturn\u001B[39;00m \u001B[38;5;28;43mhash\u001B[39;49m\u001B[43m(\u001B[49m\u001B[43m(\u001B[49m\u001B[38;5;28;43mself\u001B[39;49m\u001B[38;5;241;43m.\u001B[39;49m\u001B[43mcall_context\u001B[49m\u001B[43m,\u001B[49m\u001B[43m \u001B[49m\u001B[38;5;28;43mself\u001B[39;49m\u001B[38;5;241;43m.\u001B[39;49m\u001B[43mfunction_signature\u001B[49m\u001B[43m)\u001B[49m\u001B[43m)\u001B[49m\n",
      "File \u001B[0;32m~/Desktop/pythonProject/lib/python3.9/site-packages/tensorflow/core/function/trace_type/default_types.py:136\u001B[0m, in \u001B[0;36mOrderedCollection.__hash__\u001B[0;34m(self)\u001B[0m\n\u001B[1;32m    135\u001B[0m \u001B[38;5;28;01mdef\u001B[39;00m \u001B[38;5;21m__hash__\u001B[39m(\u001B[38;5;28mself\u001B[39m) \u001B[38;5;241m-\u001B[39m\u001B[38;5;241m>\u001B[39m \u001B[38;5;28mint\u001B[39m:\n\u001B[0;32m--> 136\u001B[0m   \u001B[38;5;28;01mreturn\u001B[39;00m \u001B[38;5;28;43mhash\u001B[39;49m\u001B[43m(\u001B[49m\u001B[43m(\u001B[49m\u001B[38;5;28;43mself\u001B[39;49m\u001B[38;5;241;43m.\u001B[39;49m\u001B[43mcollection_type\u001B[49m\u001B[43m,\u001B[49m\u001B[43m \u001B[49m\u001B[38;5;28;43mself\u001B[39;49m\u001B[38;5;241;43m.\u001B[39;49m\u001B[43mcomponents\u001B[49m\u001B[43m)\u001B[49m\u001B[43m)\u001B[49m\n",
      "File \u001B[0;32m~/Desktop/pythonProject/lib/python3.9/site-packages/tensorflow/core/function/trace_type/default_types.py:136\u001B[0m, in \u001B[0;36mOrderedCollection.__hash__\u001B[0;34m(self)\u001B[0m\n\u001B[1;32m    135\u001B[0m \u001B[38;5;28;01mdef\u001B[39;00m \u001B[38;5;21m__hash__\u001B[39m(\u001B[38;5;28mself\u001B[39m) \u001B[38;5;241m-\u001B[39m\u001B[38;5;241m>\u001B[39m \u001B[38;5;28mint\u001B[39m:\n\u001B[0;32m--> 136\u001B[0m   \u001B[38;5;28;01mreturn\u001B[39;00m \u001B[38;5;28;43mhash\u001B[39;49m\u001B[43m(\u001B[49m\u001B[43m(\u001B[49m\u001B[38;5;28;43mself\u001B[39;49m\u001B[38;5;241;43m.\u001B[39;49m\u001B[43mcollection_type\u001B[49m\u001B[43m,\u001B[49m\u001B[43m \u001B[49m\u001B[38;5;28;43mself\u001B[39;49m\u001B[38;5;241;43m.\u001B[39;49m\u001B[43mcomponents\u001B[49m\u001B[43m)\u001B[49m\u001B[43m)\u001B[49m\n",
      "File \u001B[0;32m~/Desktop/pythonProject/lib/python3.9/site-packages/tensorflow/core/function/trace_type/default_types.py:335\u001B[0m, in \u001B[0;36mReference.__hash__\u001B[0;34m(self)\u001B[0m\n\u001B[1;32m    334\u001B[0m \u001B[38;5;28;01mdef\u001B[39;00m \u001B[38;5;21m__hash__\u001B[39m(\u001B[38;5;28mself\u001B[39m) \u001B[38;5;241m-\u001B[39m\u001B[38;5;241m>\u001B[39m \u001B[38;5;28mint\u001B[39m:\n\u001B[0;32m--> 335\u001B[0m   \u001B[38;5;28;01mreturn\u001B[39;00m \u001B[38;5;28;43mhash\u001B[39;49m\u001B[43m(\u001B[49m\u001B[43m(\u001B[49m\u001B[38;5;28;43mself\u001B[39;49m\u001B[38;5;241;43m.\u001B[39;49m\u001B[43midentifier\u001B[49m\u001B[43m,\u001B[49m\u001B[43m \u001B[49m\u001B[38;5;28;43mself\u001B[39;49m\u001B[38;5;241;43m.\u001B[39;49m\u001B[43mbase\u001B[49m\u001B[43m)\u001B[49m\u001B[43m)\u001B[49m\n",
      "File \u001B[0;32m~/Desktop/pythonProject/lib/python3.9/site-packages/tensorflow/python/framework/type_spec.py:447\u001B[0m, in \u001B[0;36mTypeSpec.__hash__\u001B[0;34m(self)\u001B[0m\n\u001B[1;32m    446\u001B[0m \u001B[38;5;28;01mdef\u001B[39;00m \u001B[38;5;21m__hash__\u001B[39m(\u001B[38;5;28mself\u001B[39m) \u001B[38;5;241m-\u001B[39m\u001B[38;5;241m>\u001B[39m \u001B[38;5;28mint\u001B[39m:\n\u001B[0;32m--> 447\u001B[0m   \u001B[38;5;28;01mreturn\u001B[39;00m \u001B[38;5;28mhash\u001B[39m(\u001B[38;5;28;43mself\u001B[39;49m\u001B[38;5;241;43m.\u001B[39;49m\u001B[43m__get_cmp_key\u001B[49m\u001B[43m(\u001B[49m\u001B[43m)\u001B[49m)\n",
      "File \u001B[0;32m~/Desktop/pythonProject/lib/python3.9/site-packages/tensorflow/python/framework/type_spec.py:499\u001B[0m, in \u001B[0;36mTypeSpec.__get_cmp_key\u001B[0;34m(self)\u001B[0m\n\u001B[1;32m    497\u001B[0m \u001B[38;5;124;03m\"\"\"Returns a hashable eq-comparable key for `self`.\"\"\"\u001B[39;00m\n\u001B[1;32m    498\u001B[0m \u001B[38;5;66;03m# TODO(b/133606651): Decide whether to cache this value.\u001B[39;00m\n\u001B[0;32m--> 499\u001B[0m \u001B[38;5;28;01mreturn\u001B[39;00m (\u001B[38;5;28mtype\u001B[39m(\u001B[38;5;28mself\u001B[39m), \u001B[38;5;28;43mself\u001B[39;49m\u001B[38;5;241;43m.\u001B[39;49m\u001B[43m__make_cmp_key\u001B[49m\u001B[43m(\u001B[49m\u001B[38;5;28;43mself\u001B[39;49m\u001B[38;5;241;43m.\u001B[39;49m\u001B[43m_serialize\u001B[49m\u001B[43m(\u001B[49m\u001B[43m)\u001B[49m\u001B[43m)\u001B[49m)\n",
      "File \u001B[0;32m~/Desktop/pythonProject/lib/python3.9/site-packages/tensorflow/python/framework/type_spec.py:517\u001B[0m, in \u001B[0;36mTypeSpec.__make_cmp_key\u001B[0;34m(self, value)\u001B[0m\n\u001B[1;32m    511\u001B[0m   \u001B[38;5;28;01mreturn\u001B[39;00m \u001B[38;5;28mtuple\u001B[39m([\n\u001B[1;32m    512\u001B[0m       \u001B[38;5;28mtuple\u001B[39m([\u001B[38;5;28mself\u001B[39m\u001B[38;5;241m.\u001B[39m__make_cmp_key(key),\n\u001B[1;32m    513\u001B[0m              \u001B[38;5;28mself\u001B[39m\u001B[38;5;241m.\u001B[39m__make_cmp_key(value[key])])\n\u001B[1;32m    514\u001B[0m       \u001B[38;5;28;01mfor\u001B[39;00m key \u001B[38;5;129;01min\u001B[39;00m \u001B[38;5;28msorted\u001B[39m(value\u001B[38;5;241m.\u001B[39mkeys())\n\u001B[1;32m    515\u001B[0m   ])\n\u001B[1;32m    516\u001B[0m \u001B[38;5;28;01mif\u001B[39;00m \u001B[38;5;28misinstance\u001B[39m(value, \u001B[38;5;28mtuple\u001B[39m):\n\u001B[0;32m--> 517\u001B[0m   \u001B[38;5;28;01mreturn\u001B[39;00m \u001B[38;5;28mtuple\u001B[39m([\u001B[38;5;28mself\u001B[39m\u001B[38;5;241m.\u001B[39m__make_cmp_key(v) \u001B[38;5;28;01mfor\u001B[39;00m v \u001B[38;5;129;01min\u001B[39;00m value])\n\u001B[1;32m    518\u001B[0m \u001B[38;5;28;01mif\u001B[39;00m \u001B[38;5;28misinstance\u001B[39m(value, \u001B[38;5;28mlist\u001B[39m):\n\u001B[1;32m    519\u001B[0m   \u001B[38;5;28;01mreturn\u001B[39;00m (\u001B[38;5;28mlist\u001B[39m, \u001B[38;5;28mtuple\u001B[39m([\u001B[38;5;28mself\u001B[39m\u001B[38;5;241m.\u001B[39m__make_cmp_key(v) \u001B[38;5;28;01mfor\u001B[39;00m v \u001B[38;5;129;01min\u001B[39;00m value]))\n",
      "File \u001B[0;32m~/Desktop/pythonProject/lib/python3.9/site-packages/tensorflow/python/framework/type_spec.py:517\u001B[0m, in \u001B[0;36m<listcomp>\u001B[0;34m(.0)\u001B[0m\n\u001B[1;32m    511\u001B[0m   \u001B[38;5;28;01mreturn\u001B[39;00m \u001B[38;5;28mtuple\u001B[39m([\n\u001B[1;32m    512\u001B[0m       \u001B[38;5;28mtuple\u001B[39m([\u001B[38;5;28mself\u001B[39m\u001B[38;5;241m.\u001B[39m__make_cmp_key(key),\n\u001B[1;32m    513\u001B[0m              \u001B[38;5;28mself\u001B[39m\u001B[38;5;241m.\u001B[39m__make_cmp_key(value[key])])\n\u001B[1;32m    514\u001B[0m       \u001B[38;5;28;01mfor\u001B[39;00m key \u001B[38;5;129;01min\u001B[39;00m \u001B[38;5;28msorted\u001B[39m(value\u001B[38;5;241m.\u001B[39mkeys())\n\u001B[1;32m    515\u001B[0m   ])\n\u001B[1;32m    516\u001B[0m \u001B[38;5;28;01mif\u001B[39;00m \u001B[38;5;28misinstance\u001B[39m(value, \u001B[38;5;28mtuple\u001B[39m):\n\u001B[0;32m--> 517\u001B[0m   \u001B[38;5;28;01mreturn\u001B[39;00m \u001B[38;5;28mtuple\u001B[39m([\u001B[38;5;28;43mself\u001B[39;49m\u001B[38;5;241;43m.\u001B[39;49m\u001B[43m__make_cmp_key\u001B[49m\u001B[43m(\u001B[49m\u001B[43mv\u001B[49m\u001B[43m)\u001B[49m \u001B[38;5;28;01mfor\u001B[39;00m v \u001B[38;5;129;01min\u001B[39;00m value])\n\u001B[1;32m    518\u001B[0m \u001B[38;5;28;01mif\u001B[39;00m \u001B[38;5;28misinstance\u001B[39m(value, \u001B[38;5;28mlist\u001B[39m):\n\u001B[1;32m    519\u001B[0m   \u001B[38;5;28;01mreturn\u001B[39;00m (\u001B[38;5;28mlist\u001B[39m, \u001B[38;5;28mtuple\u001B[39m([\u001B[38;5;28mself\u001B[39m\u001B[38;5;241m.\u001B[39m__make_cmp_key(v) \u001B[38;5;28;01mfor\u001B[39;00m v \u001B[38;5;129;01min\u001B[39;00m value]))\n",
      "File \u001B[0;32m~/Desktop/pythonProject/lib/python3.9/site-packages/tensorflow/python/framework/type_spec.py:517\u001B[0m, in \u001B[0;36mTypeSpec.__make_cmp_key\u001B[0;34m(self, value)\u001B[0m\n\u001B[1;32m    511\u001B[0m   \u001B[38;5;28;01mreturn\u001B[39;00m \u001B[38;5;28mtuple\u001B[39m([\n\u001B[1;32m    512\u001B[0m       \u001B[38;5;28mtuple\u001B[39m([\u001B[38;5;28mself\u001B[39m\u001B[38;5;241m.\u001B[39m__make_cmp_key(key),\n\u001B[1;32m    513\u001B[0m              \u001B[38;5;28mself\u001B[39m\u001B[38;5;241m.\u001B[39m__make_cmp_key(value[key])])\n\u001B[1;32m    514\u001B[0m       \u001B[38;5;28;01mfor\u001B[39;00m key \u001B[38;5;129;01min\u001B[39;00m \u001B[38;5;28msorted\u001B[39m(value\u001B[38;5;241m.\u001B[39mkeys())\n\u001B[1;32m    515\u001B[0m   ])\n\u001B[1;32m    516\u001B[0m \u001B[38;5;28;01mif\u001B[39;00m \u001B[38;5;28misinstance\u001B[39m(value, \u001B[38;5;28mtuple\u001B[39m):\n\u001B[0;32m--> 517\u001B[0m   \u001B[38;5;28;01mreturn\u001B[39;00m \u001B[38;5;28mtuple\u001B[39m([\u001B[38;5;28mself\u001B[39m\u001B[38;5;241m.\u001B[39m__make_cmp_key(v) \u001B[38;5;28;01mfor\u001B[39;00m v \u001B[38;5;129;01min\u001B[39;00m value])\n\u001B[1;32m    518\u001B[0m \u001B[38;5;28;01mif\u001B[39;00m \u001B[38;5;28misinstance\u001B[39m(value, \u001B[38;5;28mlist\u001B[39m):\n\u001B[1;32m    519\u001B[0m   \u001B[38;5;28;01mreturn\u001B[39;00m (\u001B[38;5;28mlist\u001B[39m, \u001B[38;5;28mtuple\u001B[39m([\u001B[38;5;28mself\u001B[39m\u001B[38;5;241m.\u001B[39m__make_cmp_key(v) \u001B[38;5;28;01mfor\u001B[39;00m v \u001B[38;5;129;01min\u001B[39;00m value]))\n",
      "File \u001B[0;32m~/Desktop/pythonProject/lib/python3.9/site-packages/tensorflow/python/framework/type_spec.py:517\u001B[0m, in \u001B[0;36m<listcomp>\u001B[0;34m(.0)\u001B[0m\n\u001B[1;32m    511\u001B[0m   \u001B[38;5;28;01mreturn\u001B[39;00m \u001B[38;5;28mtuple\u001B[39m([\n\u001B[1;32m    512\u001B[0m       \u001B[38;5;28mtuple\u001B[39m([\u001B[38;5;28mself\u001B[39m\u001B[38;5;241m.\u001B[39m__make_cmp_key(key),\n\u001B[1;32m    513\u001B[0m              \u001B[38;5;28mself\u001B[39m\u001B[38;5;241m.\u001B[39m__make_cmp_key(value[key])])\n\u001B[1;32m    514\u001B[0m       \u001B[38;5;28;01mfor\u001B[39;00m key \u001B[38;5;129;01min\u001B[39;00m \u001B[38;5;28msorted\u001B[39m(value\u001B[38;5;241m.\u001B[39mkeys())\n\u001B[1;32m    515\u001B[0m   ])\n\u001B[1;32m    516\u001B[0m \u001B[38;5;28;01mif\u001B[39;00m \u001B[38;5;28misinstance\u001B[39m(value, \u001B[38;5;28mtuple\u001B[39m):\n\u001B[0;32m--> 517\u001B[0m   \u001B[38;5;28;01mreturn\u001B[39;00m \u001B[38;5;28mtuple\u001B[39m([\u001B[38;5;28;43mself\u001B[39;49m\u001B[38;5;241;43m.\u001B[39;49m\u001B[43m__make_cmp_key\u001B[49m\u001B[43m(\u001B[49m\u001B[43mv\u001B[49m\u001B[43m)\u001B[49m \u001B[38;5;28;01mfor\u001B[39;00m v \u001B[38;5;129;01min\u001B[39;00m value])\n\u001B[1;32m    518\u001B[0m \u001B[38;5;28;01mif\u001B[39;00m \u001B[38;5;28misinstance\u001B[39m(value, \u001B[38;5;28mlist\u001B[39m):\n\u001B[1;32m    519\u001B[0m   \u001B[38;5;28;01mreturn\u001B[39;00m (\u001B[38;5;28mlist\u001B[39m, \u001B[38;5;28mtuple\u001B[39m([\u001B[38;5;28mself\u001B[39m\u001B[38;5;241m.\u001B[39m__make_cmp_key(v) \u001B[38;5;28;01mfor\u001B[39;00m v \u001B[38;5;129;01min\u001B[39;00m value]))\n",
      "File \u001B[0;32m~/Desktop/pythonProject/lib/python3.9/site-packages/tensorflow/python/framework/type_spec.py:517\u001B[0m, in \u001B[0;36mTypeSpec.__make_cmp_key\u001B[0;34m(self, value)\u001B[0m\n\u001B[1;32m    511\u001B[0m   \u001B[38;5;28;01mreturn\u001B[39;00m \u001B[38;5;28mtuple\u001B[39m([\n\u001B[1;32m    512\u001B[0m       \u001B[38;5;28mtuple\u001B[39m([\u001B[38;5;28mself\u001B[39m\u001B[38;5;241m.\u001B[39m__make_cmp_key(key),\n\u001B[1;32m    513\u001B[0m              \u001B[38;5;28mself\u001B[39m\u001B[38;5;241m.\u001B[39m__make_cmp_key(value[key])])\n\u001B[1;32m    514\u001B[0m       \u001B[38;5;28;01mfor\u001B[39;00m key \u001B[38;5;129;01min\u001B[39;00m \u001B[38;5;28msorted\u001B[39m(value\u001B[38;5;241m.\u001B[39mkeys())\n\u001B[1;32m    515\u001B[0m   ])\n\u001B[1;32m    516\u001B[0m \u001B[38;5;28;01mif\u001B[39;00m \u001B[38;5;28misinstance\u001B[39m(value, \u001B[38;5;28mtuple\u001B[39m):\n\u001B[0;32m--> 517\u001B[0m   \u001B[38;5;28;01mreturn\u001B[39;00m \u001B[38;5;28mtuple\u001B[39m([\u001B[38;5;28mself\u001B[39m\u001B[38;5;241m.\u001B[39m__make_cmp_key(v) \u001B[38;5;28;01mfor\u001B[39;00m v \u001B[38;5;129;01min\u001B[39;00m value])\n\u001B[1;32m    518\u001B[0m \u001B[38;5;28;01mif\u001B[39;00m \u001B[38;5;28misinstance\u001B[39m(value, \u001B[38;5;28mlist\u001B[39m):\n\u001B[1;32m    519\u001B[0m   \u001B[38;5;28;01mreturn\u001B[39;00m (\u001B[38;5;28mlist\u001B[39m, \u001B[38;5;28mtuple\u001B[39m([\u001B[38;5;28mself\u001B[39m\u001B[38;5;241m.\u001B[39m__make_cmp_key(v) \u001B[38;5;28;01mfor\u001B[39;00m v \u001B[38;5;129;01min\u001B[39;00m value]))\n",
      "File \u001B[0;32m~/Desktop/pythonProject/lib/python3.9/site-packages/tensorflow/python/framework/type_spec.py:517\u001B[0m, in \u001B[0;36m<listcomp>\u001B[0;34m(.0)\u001B[0m\n\u001B[1;32m    511\u001B[0m   \u001B[38;5;28;01mreturn\u001B[39;00m \u001B[38;5;28mtuple\u001B[39m([\n\u001B[1;32m    512\u001B[0m       \u001B[38;5;28mtuple\u001B[39m([\u001B[38;5;28mself\u001B[39m\u001B[38;5;241m.\u001B[39m__make_cmp_key(key),\n\u001B[1;32m    513\u001B[0m              \u001B[38;5;28mself\u001B[39m\u001B[38;5;241m.\u001B[39m__make_cmp_key(value[key])])\n\u001B[1;32m    514\u001B[0m       \u001B[38;5;28;01mfor\u001B[39;00m key \u001B[38;5;129;01min\u001B[39;00m \u001B[38;5;28msorted\u001B[39m(value\u001B[38;5;241m.\u001B[39mkeys())\n\u001B[1;32m    515\u001B[0m   ])\n\u001B[1;32m    516\u001B[0m \u001B[38;5;28;01mif\u001B[39;00m \u001B[38;5;28misinstance\u001B[39m(value, \u001B[38;5;28mtuple\u001B[39m):\n\u001B[0;32m--> 517\u001B[0m   \u001B[38;5;28;01mreturn\u001B[39;00m \u001B[38;5;28mtuple\u001B[39m([\u001B[38;5;28;43mself\u001B[39;49m\u001B[38;5;241;43m.\u001B[39;49m\u001B[43m__make_cmp_key\u001B[49m\u001B[43m(\u001B[49m\u001B[43mv\u001B[49m\u001B[43m)\u001B[49m \u001B[38;5;28;01mfor\u001B[39;00m v \u001B[38;5;129;01min\u001B[39;00m value])\n\u001B[1;32m    518\u001B[0m \u001B[38;5;28;01mif\u001B[39;00m \u001B[38;5;28misinstance\u001B[39m(value, \u001B[38;5;28mlist\u001B[39m):\n\u001B[1;32m    519\u001B[0m   \u001B[38;5;28;01mreturn\u001B[39;00m (\u001B[38;5;28mlist\u001B[39m, \u001B[38;5;28mtuple\u001B[39m([\u001B[38;5;28mself\u001B[39m\u001B[38;5;241m.\u001B[39m__make_cmp_key(v) \u001B[38;5;28;01mfor\u001B[39;00m v \u001B[38;5;129;01min\u001B[39;00m value]))\n",
      "\u001B[0;31mKeyboardInterrupt\u001B[0m: "
     ]
    }
   ],
   "source": [
    "model.fit(tSVinput,dSVoutput,batch_size=100,epochs=50)"
   ]
  },
  {
   "cell_type": "code",
   "execution_count": null,
   "metadata": {
    "pycharm": {
     "name": "#%%\n"
    }
   },
   "outputs": [],
   "source": [
    "#model.save('Heston_FFNN_30days_30steps')"
   ]
  },
  {
   "cell_type": "code",
   "execution_count": null,
   "metadata": {
    "pycharm": {
     "name": "#%%\n"
    }
   },
   "outputs": [],
   "source": [
    "#model.save('Heston_TC_0_01_FFNN_30days_30steps')"
   ]
  },
  {
   "cell_type": "markdown",
   "metadata": {
    "pycharm": {
     "name": "#%% md\n"
    }
   },
   "source": [
    "# Call spread NN plots"
   ]
  },
  {
   "cell_type": "code",
   "execution_count": null,
   "metadata": {
    "pycharm": {
     "name": "#%%\n"
    }
   },
   "outputs": [],
   "source": [
    "#first evaluate model on new dataset.\n",
    "n=100000\n",
    "S,vol,S2 = HestonMomentMatching_SV(n)\n",
    "input_eval,dS_eval = DataInputOutput_HSV(S,vol,S2)"
   ]
  },
  {
   "cell_type": "code",
   "execution_count": null,
   "metadata": {
    "pycharm": {
     "name": "#%%\n"
    }
   },
   "outputs": [],
   "source": [
    "deltas=model.predict(input_eval)"
   ]
  },
  {
   "cell_type": "code",
   "execution_count": null,
   "metadata": {
    "pycharm": {
     "name": "#%%\n"
    }
   },
   "outputs": [],
   "source": [
    "deltas_tf=tf.convert_to_tensor(deltas,dtype='float64')\n",
    "dS_eval_tf=tf.convert_to_tensor(dS_eval,dtype='float64')\n",
    "\n",
    "payoff=(np.maximum(S.T[steps]-K1,0)-np.maximum(S.T[steps]-K2,0))/(K2-K1)\n",
    "PfValue=np.sum(dS_eval*deltas,axis=(-1))-TC*Proportional_cost(dS_eval_tf,deltas_tf)#axis=-1 when FFNN, axis=(1,2) when RNN\n",
    "Error=np.array(PfValue-payoff)#What we get in the bank at expiry"
   ]
  },
  {
   "cell_type": "code",
   "execution_count": null,
   "metadata": {
    "pycharm": {
     "name": "#%%\n"
    }
   },
   "outputs": [],
   "source": [
    "print('TC are: ',kb.mean(Proportional_cost(dS_eval_tf,deltas_tf)))\n",
    "print('Mean of Hedge error is: ',np.mean(Error))\n",
    "print('sd of hedge error is: ',np.std(Error))"
   ]
  },
  {
   "cell_type": "code",
   "execution_count": null,
   "metadata": {
    "pycharm": {
     "name": "#%%\n"
    }
   },
   "outputs": [],
   "source": [
    "#¤consider making the Histogram as Loss, hence -1*Error\n",
    "#(np.histogram(Error,bins=100))\n",
    "a = np.hstack(-Error-callspread_price)\n",
    "_ = plt.hist(a, bins='auto')  # arguments are passed to np.histogram\n",
    "plt.title(\"Loss of NN Hedging pf\")\n",
    "plt.show()"
   ]
  },
  {
   "cell_type": "code",
   "execution_count": null,
   "metadata": {
    "pycharm": {
     "name": "#%%\n"
    }
   },
   "outputs": [],
   "source": [
    "x=S.T[steps]#This is X-axis\n",
    "y=PfValue+callspread_price#This is y-axis\n",
    "min_S=np.min(x)\n",
    "max_S=np.max(x)\n",
    "plt.plot(x,y,'o')\n",
    "plt.plot([min_S, K1], [0, 0],color='b')\n",
    "plt.plot([K1, K2], [0, 1],color='b')\n",
    "plt.plot([K2, max_S], [1, 1],color='b')\n",
    "plt.title(\"Option payoff vs. NN hedge payoff\")\n",
    "plt.show()"
   ]
  },
  {
   "cell_type": "markdown",
   "metadata": {
    "pycharm": {
     "name": "#%% md\n"
    }
   },
   "source": [
    "# Digital NN plots"
   ]
  },
  {
   "cell_type": "code",
   "execution_count": null,
   "metadata": {
    "pycharm": {
     "name": "#%%\n"
    }
   },
   "outputs": [],
   "source": [
    "#first evaluate model on new dataset.\n",
    "n=100000\n",
    "S,vol,S2 = HestonMomentMatching_SV(n)\n",
    "input_eval,dS_eval = DataInputOutput_HSV(S,vol,S2)"
   ]
  },
  {
   "cell_type": "code",
   "execution_count": null,
   "metadata": {
    "pycharm": {
     "name": "#%%\n"
    }
   },
   "outputs": [],
   "source": [
    "deltas=model.predict(input_eval)"
   ]
  },
  {
   "cell_type": "code",
   "execution_count": null,
   "metadata": {
    "pycharm": {
     "name": "#%%\n"
    }
   },
   "outputs": [],
   "source": [
    "deltas_tf=tf.convert_to_tensor(deltas,dtype='float64')\n",
    "dS_eval_tf=tf.convert_to_tensor(dS_eval,dtype='float64')\n",
    "\n",
    "payoff=(S.T[steps]>K)*1\n",
    "PfValue=np.sum(dS_eval*deltas,axis=(-1))-TC*Proportional_cost(dS_eval_tf,deltas_tf)#axis=-1 when FFNN, axis=(1,2) when RNN\n",
    "Error=np.array(PfValue-payoff)#What we get in the bank at expiry"
   ]
  },
  {
   "cell_type": "code",
   "execution_count": null,
   "metadata": {
    "pycharm": {
     "name": "#%%\n"
    }
   },
   "outputs": [],
   "source": [
    "print('TC are: ',kb.mean(Proportional_cost(dS_eval_tf,deltas_tf)))\n",
    "print('Mean of Hedge error is: ',np.mean(Error))\n",
    "print('sd of hedge error is: ',np.std(Error))"
   ]
  },
  {
   "cell_type": "code",
   "execution_count": null,
   "metadata": {
    "pycharm": {
     "name": "#%%\n"
    }
   },
   "outputs": [],
   "source": [
    "#¤consider making the Histogram as Loss, hence -1*Error\n",
    "#(np.histogram(Error,bins=100))\n",
    "a = np.hstack(-Error)\n",
    "_ = plt.hist(a, bins='auto')  # arguments are passed to np.histogram\n",
    "plt.title(\"Loss of NN Hedging pf\")\n",
    "plt.show()"
   ]
  },
  {
   "cell_type": "code",
   "execution_count": null,
   "metadata": {
    "pycharm": {
     "name": "#%%\n"
    }
   },
   "outputs": [],
   "source": [
    "x=S.T[steps]#This is X-axis\n",
    "y=PfValue#This is y-axis\n",
    "min_S=np.min(x)\n",
    "max_S=np.max(x)\n",
    "plt.plot(x,y,'o')\n",
    "plt.plot([min_S, K], [0, 0],color='b')\n",
    "plt.plot([K, max_S], [1, 1],color='b')\n",
    "#plt.plot([0, K], [0, 0],color='b'\n",
    "#plt.plot([K, K*2], [0, K],color='b')\n",
    "plt.title(\"Option payoff vs. NN hedge payoff\")\n",
    "plt.show()"
   ]
  },
  {
   "cell_type": "code",
   "execution_count": null,
   "metadata": {
    "pycharm": {
     "name": "#%%\n"
    }
   },
   "outputs": [],
   "source": [
    "deltas"
   ]
  },
  {
   "cell_type": "code",
   "execution_count": null,
   "metadata": {
    "pycharm": {
     "name": "#%%\n"
    }
   },
   "outputs": [],
   "source": [
    "#digital vs. call spread payoff\n",
    "\n",
    "min_S=95\n",
    "max_S=105\n",
    "plt.plot([min_S, K], [0, 0],color='b',alpha=0.7)\n",
    "plt.plot([K, max_S], [1, 1],color='b',alpha=0.7)\n",
    "\n",
    "plt.plot([min_S, K-1], [0, 0],color='r',alpha=0.7)\n",
    "plt.plot([K-1, K], [0, 1],color='r',alpha=0.7)\n",
    "plt.plot([K, max_S], [1, 1],color='r',alpha=0.7)\n",
    "#plt.plot([0, K], [0, 0],color='b'\n",
    "#plt.plot([K, K*2], [0, K],color='b')\n",
    "plt.title(\"Digital option payoff vs. call spread option payoff\")\n",
    "plt.show()"
   ]
  },
  {
   "cell_type": "markdown",
   "metadata": {
    "pycharm": {
     "name": "#%% md\n"
    }
   },
   "source": [
    "# Plotting NN\n",
    "We start by calculating basic thing used for Histogram and Hockey Stick."
   ]
  },
  {
   "cell_type": "code",
   "execution_count": null,
   "metadata": {
    "pycharm": {
     "name": "#%%\n"
    }
   },
   "outputs": [],
   "source": [
    "#model=load_model('Heston_FFNN_30days_30steps', compile=False)"
   ]
  },
  {
   "cell_type": "code",
   "execution_count": null,
   "metadata": {
    "pycharm": {
     "name": "#%%\n"
    }
   },
   "outputs": [],
   "source": [
    "#first evaluate model on new dataset.\n",
    "n=100000\n",
    "S,vol,S2 = HestonMomentMatching_SV(n)\n",
    "input_eval,dS_eval = DataInputOutput_HSV(S,vol,S2)"
   ]
  },
  {
   "cell_type": "code",
   "execution_count": null,
   "metadata": {
    "pycharm": {
     "name": "#%%\n"
    }
   },
   "outputs": [],
   "source": [
    "input_eval,dS_eval = DataInputOutput_HSV(S,vol,S2)"
   ]
  },
  {
   "cell_type": "code",
   "execution_count": null,
   "metadata": {
    "pycharm": {
     "name": "#%%\n"
    }
   },
   "outputs": [],
   "source": [
    "input_eval,dS_eval = RNN_DataInputOutput_HSV(S,vol,S2)"
   ]
  },
  {
   "cell_type": "code",
   "execution_count": null,
   "metadata": {
    "pycharm": {
     "name": "#%%\n"
    }
   },
   "outputs": [],
   "source": [
    "deltas=model.predict(input_eval)"
   ]
  },
  {
   "cell_type": "code",
   "execution_count": null,
   "metadata": {
    "pycharm": {
     "name": "#%%\n"
    }
   },
   "outputs": [],
   "source": [
    "deltas_tf=tf.convert_to_tensor(deltas,dtype='float64')\n",
    "dS_eval_tf=tf.convert_to_tensor(dS_eval,dtype='float64')\n",
    "\n",
    "payoff=np.maximum(S.T[steps]-K,0)\n",
    "PfValue=callprice+np.sum(dS_eval*deltas,axis=(-1))-TC*Proportional_cost(dS_eval_tf,deltas_tf)#axis=-1 when FFNN, axis=(1,2) when RNN\n",
    "Error=np.array(PfValue-payoff)#What we get in the bank at expiry\n",
    "#old version\n",
    "#payoff=kb.maximum(S.T[steps]-K,0)\n",
    "#PfValue=callprice+kb.sum(dS_eval*deltas,axis=-1)\n",
    "#Error=(PfValue-payoff)#What we get in the bank at expiry"
   ]
  },
  {
   "cell_type": "code",
   "execution_count": null,
   "metadata": {
    "pycharm": {
     "name": "#%%\n"
    }
   },
   "outputs": [],
   "source": [
    "print('TC are: ',kb.mean(Proportional_cost(dS_eval_tf,deltas_tf)))\n",
    "print('Mean of Hedge error is: ',np.mean(Error))\n",
    "print('sd of hedge error is: ',np.std(Error))"
   ]
  },
  {
   "cell_type": "markdown",
   "metadata": {
    "pycharm": {
     "name": "#%% md\n"
    }
   },
   "source": [
    "### Histogram "
   ]
  },
  {
   "cell_type": "code",
   "execution_count": null,
   "metadata": {
    "pycharm": {
     "name": "#%%\n"
    }
   },
   "outputs": [],
   "source": [
    "#¤consider making the Histogram as Loss, hence -1*Error\n",
    "#(np.histogram(Error,bins=100))\n",
    "a = np.hstack(-Error)\n",
    "_ = plt.hist(a, bins='auto')  # arguments are passed to np.histogram\n",
    "plt.title(\"Loss of NN Hedging pf\")\n",
    "plt.show()"
   ]
  },
  {
   "cell_type": "markdown",
   "metadata": {
    "pycharm": {
     "name": "#%% md\n"
    }
   },
   "source": [
    "### Hockey stick"
   ]
  },
  {
   "cell_type": "code",
   "execution_count": null,
   "metadata": {
    "pycharm": {
     "name": "#%%\n"
    }
   },
   "outputs": [],
   "source": [
    "x=S.T[steps]#This is X-axis\n",
    "y=PfValue#This is y-axis\n",
    "min_S=np.min(x)\n",
    "max_S=np.max(x)\n",
    "plt.plot(x,y,'o')\n",
    "plt.plot([min_S, K], [0, 0],color='b')\n",
    "plt.plot([K, max_S], [0, max_S-K],color='b')\n",
    "#plt.plot([0, K], [0, 0],color='b')\n",
    "#plt.plot([K, K*2], [0, K],color='b')\n",
    "plt.title(\"Option payoff vs. NN hedge payoff\")\n",
    "plt.show()"
   ]
  },
  {
   "cell_type": "markdown",
   "metadata": {
    "pycharm": {
     "name": "#%% md\n"
    }
   },
   "source": [
    "# Plotting RNN vs FFNN TC"
   ]
  },
  {
   "cell_type": "code",
   "execution_count": null,
   "metadata": {
    "pycharm": {
     "name": "#%%\n"
    }
   },
   "outputs": [],
   "source": [
    "n_bins = 10\n",
    "x = np.random.randn(1000, 3)"
   ]
  },
  {
   "cell_type": "code",
   "execution_count": null,
   "metadata": {
    "pycharm": {
     "name": "#%%\n"
    }
   },
   "outputs": [],
   "source": [
    "x.shape"
   ]
  },
  {
   "cell_type": "code",
   "execution_count": null,
   "metadata": {
    "pycharm": {
     "name": "#%%\n"
    }
   },
   "outputs": [],
   "source": [
    "np.array(Error_both).shape"
   ]
  },
  {
   "cell_type": "code",
   "execution_count": null,
   "metadata": {
    "pycharm": {
     "name": "#%%\n"
    }
   },
   "outputs": [],
   "source": [
    "#insert values\n",
    "Error_FFNN\n",
    "Error_RNN"
   ]
  },
  {
   "cell_type": "code",
   "execution_count": null,
   "metadata": {
    "pycharm": {
     "name": "#%%\n"
    }
   },
   "outputs": [],
   "source": [
    "Error_both=[]\n",
    "for i in range(n):\n",
    "    Error_both.append([Error_FFNN[i],Error_RNN[i]])\n",
    "Error_both=np.array(Error_both)"
   ]
  },
  {
   "cell_type": "code",
   "execution_count": null,
   "metadata": {
    "pycharm": {
     "name": "#%%\n"
    }
   },
   "outputs": [],
   "source": [
    "colors = ['red', 'blue']\n",
    "plt.hist(-Error_both, 25, density=True, histtype='bar', color=[\"red\",\"blue\"], label=[\"FFNN\",\"RNN\"])\n",
    "plt.legend(prop={'size': 10})\n",
    "plt.title(\"FFNN(red) vs RNN(blue) hedge error with TC=0.01\")\n",
    "#red=FFNN, blue=RNN"
   ]
  },
  {
   "cell_type": "code",
   "execution_count": null,
   "metadata": {
    "pycharm": {
     "name": "#%%\n"
    }
   },
   "outputs": [],
   "source": [
    "a = np.hstack(-Error)\n",
    "_ = plt.hist(a, bins='auto')  # arguments are passed to np.histogram\n",
    "plt.title(\"Loss of NN Hedging pf\")\n",
    "plt.show()"
   ]
  },
  {
   "cell_type": "markdown",
   "metadata": {
    "pycharm": {
     "name": "#%% md\n"
    }
   },
   "source": [
    "# Plotting analytic model"
   ]
  },
  {
   "cell_type": "code",
   "execution_count": null,
   "metadata": {
    "collapsed": true,
    "pycharm": {
     "name": "#%%\n"
    }
   },
   "outputs": [],
   "source": [
    "timepoints = np.linspace(0,T-dt,steps)#Vector of timepoint where pf i adjusted.\n",
    "\n",
    "model_deltas=np.empty((n,steps*2))\n",
    "for i in range(n):\n",
    "    tmp_delta=np.empty(0)\n",
    "    for j in range(steps):\n",
    "        delta1,delta2=delta12(t=timepoints[j],v=vol[i][j],s=S[i][j])\n",
    "        tmp_delta=np.append(tmp_delta,delta1)\n",
    "        tmp_delta=np.append(tmp_delta,delta2)\n",
    "    model_deltas[i]=tmp_delta"
   ]
  },
  {
   "cell_type": "code",
   "execution_count": null,
   "metadata": {
    "pycharm": {
     "name": "#%%\n"
    }
   },
   "outputs": [],
   "source": [
    "tSVinput[0].shape"
   ]
  },
  {
   "cell_type": "code",
   "execution_count": null,
   "metadata": {
    "pycharm": {
     "name": "#%%\n"
    }
   },
   "outputs": [],
   "source": [
    "dSVoutput[0]"
   ]
  },
  {
   "cell_type": "code",
   "execution_count": null,
   "metadata": {
    "pycharm": {
     "name": "#%%\n"
    }
   },
   "outputs": [],
   "source": [
    "n=stop"
   ]
  },
  {
   "cell_type": "code",
   "execution_count": null,
   "metadata": {
    "pycharm": {
     "name": "#%%\n"
    }
   },
   "outputs": [],
   "source": [
    "model_deltas[:stop].shape"
   ]
  },
  {
   "cell_type": "code",
   "execution_count": null,
   "metadata": {
    "pycharm": {
     "name": "#%%\n"
    }
   },
   "outputs": [],
   "source": [
    "#S_total=S\n",
    "#vol_total=vol\n",
    "#S2_total=S2\n",
    "#input_eval_total=input_eval\n",
    "#dS_eval_total=dS_eval\n",
    "#model_deltas_total=model_deltas"
   ]
  },
  {
   "cell_type": "code",
   "execution_count": null,
   "metadata": {
    "pycharm": {
     "name": "#%%\n"
    }
   },
   "outputs": [],
   "source": [
    "S=S[:stop]\n",
    "vol=vol[:stop]\n",
    "S2=S2[:stop]\n",
    "input_eval=input_eval[:stop]\n",
    "dS_eval=dS_eval[:stop]\n",
    "model_deltas=model_deltas[:stop]"
   ]
  },
  {
   "cell_type": "code",
   "execution_count": null,
   "metadata": {
    "pycharm": {
     "name": "#%%\n"
    }
   },
   "outputs": [],
   "source": [
    "payoff=kb.maximum(S.T[steps]-K,0)\n",
    "PfValue_model=callprice+kb.sum(dS_eval*model_deltas,axis=-1)\n",
    "Error_model=np.array(PfValue_model-payoff)#What we get in the bank at expiry"
   ]
  },
  {
   "cell_type": "markdown",
   "metadata": {
    "pycharm": {
     "name": "#%% md\n"
    }
   },
   "source": [
    "### Histogram"
   ]
  },
  {
   "cell_type": "code",
   "execution_count": null,
   "metadata": {
    "pycharm": {
     "name": "#%%\n"
    }
   },
   "outputs": [],
   "source": [
    "#(np.histogram(Error,bins=100))\n",
    "a_model = np.hstack(Error_model)\n",
    "_ = plt.hist(a_model, bins='auto')  # arguments are passed to np.histogram\n",
    "plt.title(\"Error of model Hedging pf\")\n",
    "plt.show()"
   ]
  },
  {
   "cell_type": "markdown",
   "metadata": {
    "pycharm": {
     "name": "#%% md\n"
    }
   },
   "source": [
    "### Hockey stick"
   ]
  },
  {
   "cell_type": "code",
   "execution_count": null,
   "metadata": {
    "pycharm": {
     "name": "#%%\n"
    }
   },
   "outputs": [],
   "source": [
    "x=S.T[steps]#This is X-axis\n",
    "y=PfValue_model#This is y-axis\n",
    "plt.plot(x,y,'o')\n",
    "plt.plot([0, K], [0, 0],color='b')\n",
    "plt.plot([K, K*2], [0, K],color='b')\n",
    "plt.title(\"Option payoff vs. Model hedge payoff\")\n",
    "plt.show()"
   ]
  },
  {
   "cell_type": "code",
   "execution_count": null,
   "metadata": {
    "pycharm": {
     "name": "#%%\n"
    }
   },
   "outputs": [],
   "source": [
    "print(np.mean(Error_model))\n",
    "print(np.std(Error_model))"
   ]
  },
  {
   "cell_type": "markdown",
   "metadata": {
    "pycharm": {
     "name": "#%% md\n"
    }
   },
   "source": [
    "# 3D plot"
   ]
  },
  {
   "cell_type": "code",
   "execution_count": null,
   "metadata": {
    "pycharm": {
     "name": "#%%\n"
    }
   },
   "outputs": [],
   "source": [
    "#¤make the code flexible so it can handle S_idx and vol_idx being adjusted...\n",
    "time = T/2\n",
    "S_idx=10\n",
    "vol_idx=10\n",
    "\n",
    "Sval = np.linspace(95,103,num=S_idx)\n",
    "volval = np.linspace(.03,.13,num=vol_idx)\n",
    "\n",
    "SGrid,volGrid=np.meshgrid(Sval,volval)"
   ]
  },
  {
   "cell_type": "code",
   "execution_count": null,
   "metadata": {
    "pycharm": {
     "name": "#%%\n"
    }
   },
   "outputs": [],
   "source": [
    "tSinput_3d = []\n",
    "tim = np.linspace(T/2,T/2,steps+1)\n",
    "\n",
    "n_3d=1\n",
    "\n",
    "for i in range(10):\n",
    "    for j in range(10):\n",
    "        timv = np.repeat(tim[i],n_3d)\n",
    "        timv = np.reshape(timv,(n_3d,1))\n",
    "        Sv = np.reshape(SGrid[i][j],(n_3d,1))\n",
    "        volv = np.reshape(volGrid[i][j],(n_3d,1))\n",
    "        tSinput_3d.append(np.concatenate((timv,Sv,volv),1))#Input is (t,S,v)\n",
    "\n",
    "delta_3d=model.predict(tSinput_3d)\n",
    "delta_3d_1=delta_3d[0][::2]\n",
    "delta_3d_2=delta_3d[0][1::2]\n",
    "\n",
    "delta1_NN = np.zeros([10,10])\n",
    "delta2_NN = np.zeros([10,10])\n",
    "\n",
    "for i in range(10):\n",
    "    for j in range(10):\n",
    "        delta1_NN[i][j]=delta_3d_1[i*10+j]\n",
    "        delta2_NN[i][j]=delta_3d_2[i*10+j]"
   ]
  },
  {
   "cell_type": "code",
   "execution_count": null,
   "metadata": {
    "pycharm": {
     "name": "#%%\n"
    }
   },
   "outputs": [],
   "source": [
    "fig_nn = plt.figure()\n",
    "ax = plt.axes(projection='3d')\n",
    "ax.contour3D(SGrid, volGrid, delta1_NN, 100)\n",
    "ax.set_xlabel('S')\n",
    "ax.set_ylabel('vol')\n",
    "ax.set_zlabel('delta1');\n",
    "plt.title(\"NN delta1\")"
   ]
  },
  {
   "cell_type": "code",
   "execution_count": null,
   "metadata": {
    "pycharm": {
     "name": "#%%\n"
    }
   },
   "outputs": [],
   "source": [
    "fig_nn = plt.figure()\n",
    "ax = plt.axes(projection='3d')\n",
    "ax.contour3D(SGrid, volGrid, delta2_NN, 100)\n",
    "ax.set_xlabel('S')\n",
    "ax.set_ylabel('vol')\n",
    "ax.set_zlabel('delta2');\n",
    "plt.title(\"NN delta2\")"
   ]
  },
  {
   "cell_type": "code",
   "execution_count": null,
   "metadata": {
    "pycharm": {
     "name": "#%%\n"
    }
   },
   "outputs": [],
   "source": [
    "delta1_model = np.zeros([10,10])\n",
    "delta2_model = np.zeros([10,10])\n",
    "\n",
    "for i in range(10):\n",
    "    for j in range(10):\n",
    "        delta1,delta2=delta12(t=tSinput_3d[i*10+j][0][0],s=tSinput_3d[i*10+j][0][1],v=tSinput_3d[i*10+j][0][2])\n",
    "        delta1_model[i][j]=delta1\n",
    "        delta2_model[i][j]=delta2"
   ]
  },
  {
   "cell_type": "code",
   "execution_count": null,
   "metadata": {
    "pycharm": {
     "name": "#%%\n"
    }
   },
   "outputs": [],
   "source": [
    "fig_model = plt.figure()\n",
    "ax = plt.axes(projection='3d')\n",
    "ax.contour3D(SGrid, volGrid, delta1_model, 100)\n",
    "ax.set_xlabel('S')\n",
    "ax.set_ylabel('vol')\n",
    "ax.set_zlabel('delta1');\n",
    "plt.title(\"Model delta1\")"
   ]
  },
  {
   "cell_type": "code",
   "execution_count": null,
   "metadata": {
    "pycharm": {
     "name": "#%%\n"
    }
   },
   "outputs": [],
   "source": [
    "fig_model = plt.figure()\n",
    "ax = plt.axes(projection='3d')\n",
    "ax.contour3D(SGrid, volGrid, delta2_model, 100)\n",
    "ax.set_xlabel('S')\n",
    "ax.set_ylabel('vol')\n",
    "ax.set_zlabel('delta2');\n",
    "plt.title(\"Model delta2\")"
   ]
  },
  {
   "cell_type": "code",
   "execution_count": null,
   "metadata": {
    "pycharm": {
     "name": "#%%\n"
    }
   },
   "outputs": [],
   "source": [
    "delta1_diff=delta1_NN-delta1_model\n",
    "delta2_diff=delta2_NN-delta2_model"
   ]
  },
  {
   "cell_type": "code",
   "execution_count": null,
   "metadata": {
    "pycharm": {
     "name": "#%%\n"
    }
   },
   "outputs": [],
   "source": [
    "fig_model = plt.figure()\n",
    "ax = plt.axes(projection='3d')\n",
    "ax.contour3D(SGrid, volGrid, delta1_diff, 100)\n",
    "ax.set_xlabel('S')\n",
    "ax.set_ylabel('vol')\n",
    "ax.set_zlabel('delta1');\n",
    "plt.title(\"Diff delta1\")"
   ]
  },
  {
   "cell_type": "code",
   "execution_count": null,
   "metadata": {
    "pycharm": {
     "name": "#%%\n"
    }
   },
   "outputs": [],
   "source": [
    "fig_model = plt.figure()\n",
    "ax = plt.axes(projection='3d')\n",
    "ax.contour3D(SGrid, volGrid, delta2_diff, 100)\n",
    "ax.set_xlabel('S')\n",
    "ax.set_ylabel('vol')\n",
    "ax.set_zlabel('delta1');\n",
    "plt.title(\"Diff delta2\")"
   ]
  },
  {
   "cell_type": "code",
   "execution_count": null,
   "metadata": {
    "pycharm": {
     "name": "#%%\n"
    }
   },
   "outputs": [],
   "source": [
    "delta1_diff.min() "
   ]
  },
  {
   "cell_type": "markdown",
   "metadata": {
    "pycharm": {
     "name": "#%% md\n"
    }
   },
   "source": [
    "# Saving/Loading data"
   ]
  },
  {
   "cell_type": "code",
   "execution_count": null,
   "metadata": {
    "pycharm": {
     "name": "#%%\n"
    }
   },
   "outputs": [],
   "source": [
    "import dill\n",
    "#dill.dump_session('notebook_env.db')\n",
    "#dill.load_session('notebook_env.db')"
   ]
  },
  {
   "cell_type": "markdown",
   "metadata": {
    "pycharm": {
     "name": "#%% md\n"
    }
   },
   "source": [
    "# test of transaction cost\n",
    "Do test with tensor datatype"
   ]
  },
  {
   "cell_type": "code",
   "execution_count": null,
   "metadata": {
    "pycharm": {
     "name": "#%%\n"
    }
   },
   "outputs": [],
   "source": [
    "model=load_model('Heston_Swap_30days_30steps', compile=False)"
   ]
  },
  {
   "cell_type": "code",
   "execution_count": null,
   "metadata": {
    "pycharm": {
     "name": "#%%\n"
    }
   },
   "outputs": [],
   "source": [
    "n=100000\n",
    "S,vol,S2 = HestonMomentMatching_SV(n)\n",
    "input_eval,dS_eval = DataInputOutput_HSV(S,vol,S2)"
   ]
  },
  {
   "cell_type": "code",
   "execution_count": null,
   "metadata": {
    "pycharm": {
     "name": "#%%\n"
    }
   },
   "outputs": [],
   "source": [
    "deltaer=model.predict(input_eval)"
   ]
  },
  {
   "cell_type": "code",
   "execution_count": null,
   "metadata": {
    "pycharm": {
     "name": "#%%\n"
    }
   },
   "outputs": [],
   "source": [
    "deltas=tf.convert_to_tensor(deltaer[:100],dtype='float64')\n",
    "dS=tf.convert_to_tensor(dS_eval[:100],dtype='float64')"
   ]
  },
  {
   "cell_type": "code",
   "execution_count": null,
   "metadata": {
    "pycharm": {
     "name": "#%%\n"
    }
   },
   "outputs": [],
   "source": [
    "def Proportional_cost(dS,deltas):#we could also call the input y_pred,y_true,epsilon\n",
    "    \n",
    "    #finding changes to pf.\n",
    "    delta1=deltas[:,::2]\n",
    "    delta2=deltas[:,1::2]\n",
    "    \n",
    "    #for initial TC\n",
    "    delta1_t0=delta1[:,0]\n",
    "    delta2_t0=delta2[:,0]\n",
    "    \n",
    "    #for terminal TC\n",
    "    delta1_tT=delta1[:,steps-1]\n",
    "    delta2_tT=delta2[:,steps-1]\n",
    "    \n",
    "    #for intermediate TC\n",
    "    #finding changes to pf.\n",
    "    delta1_I=kb.abs(tf.subtract(delta1[:,1:],delta1[:,:-1]))\n",
    "    delta2_I=kb.abs(tf.subtract(delta2[:,1:],delta2[:,:-1]))\n",
    "    \n",
    "    #finding asset prices.\n",
    "    dS1=dS[:,::2]\n",
    "    dS2=dS[:,1::2]\n",
    "    S1=tf.math.cumsum(dS1)+S0\n",
    "    S2=tf.math.cumsum(dS2)+L(0,V0)#L function is initial price of Swap\n",
    "    \n",
    "    #for initial TC\n",
    "    S1_t0=S0\n",
    "    S2_t0=L(0,V0)\n",
    "    \n",
    "    #for terminal TC\n",
    "    S1_tT=S1[:,steps-1]\n",
    "    S2_tT=S2[:,steps-1]\n",
    "    \n",
    "    #for intermediate TC.\n",
    "    #(We remove the price in the last time step)\n",
    "    S1_I=tf.slice(S1,[0,0],[S1.get_shape()[0],steps-1])\n",
    "    S2_I=tf.slice(S2,[0,0],[S2.get_shape()[0],steps-1])\n",
    "    \n",
    "    #initial TC\n",
    "    TCS1_0=epsilon*kb.abs(delta1_t0)*S1_t0\n",
    "    TCS2_0=epsilon*kb.abs(delta2_t0)*S2_t0\n",
    "    \n",
    "    #Terminal TC\n",
    "    TCS1_T=epsilon*kb.abs(delta1_tT)*S1_tT\n",
    "    TCS2_T=epsilon*kb.abs(delta2_tT)*S2_tT\n",
    "    \n",
    "    #Intermediate TC\n",
    "    TCS1_I=epsilon*kb.sum(delta1_I*S1_I,axis=1)\n",
    "    TCS2_I=epsilon*kb.sum(delta2_I*S2_I,axis=1)\n",
    "    \n",
    "    Cost=TCS1_0+TCS2_0+TCS1_I+TCS2_I#+TCS1_T+TCS2_T\n",
    "    return Cost\n",
    "\n",
    "#consider implementing other types of transacton cost"
   ]
  },
  {
   "cell_type": "code",
   "execution_count": null,
   "metadata": {
    "pycharm": {
     "name": "#%%\n"
    }
   },
   "outputs": [],
   "source": [
    "TC=True"
   ]
  },
  {
   "cell_type": "code",
   "execution_count": null,
   "metadata": {
    "pycharm": {
     "name": "#%%\n"
    }
   },
   "outputs": [],
   "source": [
    "model=FFNN('linear',3,2,loss_call)"
   ]
  },
  {
   "cell_type": "code",
   "execution_count": null,
   "metadata": {
    "scrolled": true,
    "pycharm": {
     "name": "#%%\n"
    }
   },
   "outputs": [],
   "source": [
    "model.fit(tSVinput,dSVoutput,batch_size=100,epochs=50)"
   ]
  },
  {
   "cell_type": "markdown",
   "metadata": {
    "pycharm": {
     "name": "#%% md\n"
    }
   },
   "source": [
    "# Playing with RNN"
   ]
  },
  {
   "cell_type": "code",
   "execution_count": null,
   "metadata": {
    "pycharm": {
     "name": "#%%\n"
    }
   },
   "outputs": [],
   "source": [
    "#S1,vol,S2 = HestonMomentMatching_SV(n)\n",
    "tSVinput_RNN,dSVoutput_RNN = RNN_DataInputOutput_HSV(S1,vol,S2) "
   ]
  },
  {
   "cell_type": "code",
   "execution_count": null,
   "metadata": {
    "scrolled": true,
    "pycharm": {
     "name": "#%%\n"
    }
   },
   "outputs": [],
   "source": [
    "#¤This model is good, but might not be what they do in the article\n",
    "model_input=Input(shape=(steps,3))\n",
    "x=SimpleRNN(100,return_sequences=True,activation='relu')(model_input)\n",
    "x=SimpleRNN(100,return_sequences=True,activation='relu')(x)\n",
    "x=SimpleRNN(100,return_sequences=True,activation='relu')(x)\n",
    "output=Dense(2,activation='linear')(x)\n",
    "model=Model(inputs=model_input,outputs=output)\n",
    "model.compile(optimizer='adam',loss=loss_call_RNN)\n",
    "model.summary()"
   ]
  },
  {
   "cell_type": "code",
   "execution_count": null,
   "metadata": {
    "scrolled": true,
    "pycharm": {
     "name": "#%%\n"
    }
   },
   "outputs": [],
   "source": [
    "model.fit(tSVinput,dSVoutput,batch_size=100,epochs=40)"
   ]
  },
  {
   "cell_type": "code",
   "execution_count": null,
   "metadata": {
    "pycharm": {
     "name": "#%%\n"
    }
   },
   "outputs": [],
   "source": [
    "#See how well this performs.\n",
    "#This is my best attempt at doing exactly what they do in the article. \n",
    "#But we need to make sure exactly what is going on.\n",
    "#¤try to work with relu activation and add a dense layer with linear activation.\n",
    "n_units=100\n",
    "n_layers=3\n",
    "inputs = Input(shape=(steps,3))\n",
    "cells=[tf.keras.layers.GRUCell(n_units) for _ in range(n_layers)]\n",
    "outputs = tf.keras.layers.RNN(tf.keras.layers.StackedRNNCells(cells),\n",
    "                              stateful=False, \n",
    "                              return_sequences=True, \n",
    "                              return_state=False)(inputs)\n",
    "outputs = tf.keras.layers.Dense(2)(outputs)\n",
    "model=Model(inputs=inputs, outputs=outputs)\n",
    "model.summary()\n",
    "model.compile(optimizer='adam',loss=loss_call_RNN)"
   ]
  },
  {
   "cell_type": "code",
   "execution_count": null,
   "metadata": {
    "collapsed": true,
    "pycharm": {
     "name": "#%%\n"
    }
   },
   "outputs": [],
   "source": [
    "model.fit(tSVinput_RNN,dSVoutput_RNN,batch_size=100,epochs=10)"
   ]
  },
  {
   "cell_type": "code",
   "execution_count": null,
   "metadata": {
    "pycharm": {
     "name": "#%%\n"
    }
   },
   "outputs": [],
   "source": [
    "#the same as above but with SimpleRNN and linear activation at output.\n",
    "#the deltas from the network seem to be way better than for the above two RNN.\n",
    "n_units=100\n",
    "n_layers=3\n",
    "inputs = Input(shape=(steps,3))\n",
    "cells=[tf.keras.layers.SimpleRNNCell(n_units,activation='relu') for _ in range(n_layers)]\n",
    "outputs = tf.keras.layers.RNN(tf.keras.layers.StackedRNNCells(cells),\n",
    "                              stateful=False, \n",
    "                              return_sequences=True, \n",
    "                              return_state=False)(inputs)\n",
    "outputs = tf.keras.layers.Dense(2,activation='linear')(outputs)\n",
    "model=Model(inputs=inputs, outputs=outputs)\n",
    "model.summary()\n",
    "model.compile(optimizer='adam',loss=loss_call_RNN)"
   ]
  },
  {
   "cell_type": "code",
   "execution_count": null,
   "metadata": {
    "scrolled": true,
    "pycharm": {
     "name": "#%%\n"
    }
   },
   "outputs": [],
   "source": [
    "model.fit(tSVinput_RNN,dSVoutput_RNN,batch_size=100,epochs=50)"
   ]
  },
  {
   "cell_type": "code",
   "execution_count": null,
   "metadata": {
    "pycharm": {
     "name": "#%%\n"
    }
   },
   "outputs": [],
   "source": [
    "model.save('Heston_RNN_30days_30steps')#it gives some warnings, but it should be alright."
   ]
  },
  {
   "cell_type": "code",
   "execution_count": null,
   "metadata": {
    "pycharm": {
     "name": "#%%\n"
    }
   },
   "outputs": [],
   "source": [
    "#modelRNN=load_model('Heston_RNN_30days_30steps', compile=False)"
   ]
  },
  {
   "cell_type": "markdown",
   "metadata": {
    "pycharm": {
     "name": "#%% md\n"
    }
   },
   "source": [
    "# RNN and TC TEST"
   ]
  },
  {
   "cell_type": "code",
   "execution_count": null,
   "metadata": {
    "pycharm": {
     "name": "#%%\n"
    }
   },
   "outputs": [],
   "source": [
    "n=100000\n",
    "S,vol,S2 = HestonMomentMatching_SV(n)\n",
    "input_eval_RNN,dS_eval_RNN = RNN_DataInputOutput_HSV(S,vol,S2)"
   ]
  },
  {
   "cell_type": "code",
   "execution_count": null,
   "metadata": {
    "pycharm": {
     "name": "#%%\n"
    }
   },
   "outputs": [],
   "source": [
    "deltaer=model.predict(input_eval_RNN)"
   ]
  },
  {
   "cell_type": "code",
   "execution_count": null,
   "metadata": {
    "pycharm": {
     "name": "#%%\n"
    }
   },
   "outputs": [],
   "source": [
    "deltas=tf.convert_to_tensor(deltaer[:100],dtype='float64')\n",
    "dS=tf.convert_to_tensor(dS_eval[:100],dtype='float64')"
   ]
  },
  {
   "cell_type": "code",
   "execution_count": null,
   "metadata": {
    "scrolled": true,
    "pycharm": {
     "name": "#%%\n"
    }
   },
   "outputs": [],
   "source": [
    "kb.mean(Proportional_cost_RNN(dS,deltas))"
   ]
  },
  {
   "cell_type": "code",
   "execution_count": null,
   "metadata": {
    "pycharm": {
     "name": "#%%\n"
    }
   },
   "outputs": [],
   "source": [
    "#the same as above but with SimpleRNN and linear activation at output.\n",
    "#the deltas from the network seem to be way better than for the above two RNN.\n",
    "n_units=100\n",
    "n_layers=3\n",
    "inputs = Input(shape=(steps,3))\n",
    "cells=[tf.keras.layers.SimpleRNNCell(n_units,activation='relu') for _ in range(n_layers)]\n",
    "outputs = tf.keras.layers.RNN(tf.keras.layers.StackedRNNCells(cells),\n",
    "                              stateful=False, \n",
    "                              return_sequences=True, \n",
    "                              return_state=False)(inputs)\n",
    "outputs = tf.keras.layers.Dense(2,activation='linear')(outputs)\n",
    "model=Model(inputs=inputs, outputs=outputs)\n",
    "model.summary()\n",
    "model.compile(optimizer='adam',loss=loss_call_RNN)"
   ]
  },
  {
   "cell_type": "code",
   "execution_count": null,
   "metadata": {
    "scrolled": true,
    "pycharm": {
     "name": "#%%\n"
    }
   },
   "outputs": [],
   "source": [
    "model.fit(tSVinput_RNN,dSVoutput_RNN,batch_size=100,epochs=50)"
   ]
  },
  {
   "cell_type": "code",
   "execution_count": null,
   "metadata": {
    "pycharm": {
     "name": "#%%\n"
    }
   },
   "outputs": [],
   "source": [
    "model.save('Heston_TC_0_01_RNN_30days_30steps')"
   ]
  },
  {
   "cell_type": "code",
   "execution_count": null,
   "metadata": {
    "pycharm": {
     "name": "#%%\n"
    }
   },
   "outputs": [],
   "source": [
    "model_RNN_TC=model"
   ]
  },
  {
   "cell_type": "markdown",
   "metadata": {
    "pycharm": {
     "name": "#%% md\n"
    }
   },
   "source": [
    "# Loss ES test"
   ]
  },
  {
   "cell_type": "code",
   "execution_count": null,
   "metadata": {
    "pycharm": {
     "name": "#%%\n"
    }
   },
   "outputs": [],
   "source": [
    "model=load_model('Heston_FFNN_30days_30steps', compile=False)"
   ]
  },
  {
   "cell_type": "code",
   "execution_count": null,
   "metadata": {
    "pycharm": {
     "name": "#%%\n"
    }
   },
   "outputs": [],
   "source": [
    "n=100000\n",
    "S,vol,S2 = HestonMomentMatching_SV(n)\n",
    "input_eval,dS_eval = DataInputOutput_HSV(S,vol,S2)\n",
    "deltaer=model.predict(input_eval)"
   ]
  },
  {
   "cell_type": "code",
   "execution_count": null,
   "metadata": {
    "pycharm": {
     "name": "#%%\n"
    }
   },
   "outputs": [],
   "source": [
    "deltas=tf.convert_to_tensor(deltaer[:100],dtype='float64')\n",
    "dS=tf.convert_to_tensor(dS_eval[:100],dtype='float64')"
   ]
  },
  {
   "cell_type": "code",
   "execution_count": null,
   "metadata": {
    "pycharm": {
     "name": "#%%\n"
    }
   },
   "outputs": [],
   "source": [
    "deltas * dS"
   ]
  },
  {
   "cell_type": "code",
   "execution_count": null,
   "metadata": {
    "pycharm": {
     "name": "#%%\n"
    }
   },
   "outputs": [],
   "source": [
    "\n",
    "#insert if else TC statement\n",
    "\n",
    "pf_loss=(callprice + kb.sum(deltas * dS,axis=-1) - kb.maximum(S0 + kb.sum(dS,axis=-1) - K,0.))#do we need a minus here?\n",
    "sortet = tf.sort(pf_loss)\n",
    "cutoff = int(tfnp.floor(alpha*sortet.shape[0]))\n",
    "quantile = sortet[:cutoff]\n",
    "ES_alpha = -kb.mean(quantile)"
   ]
  },
  {
   "cell_type": "code",
   "execution_count": null,
   "metadata": {
    "pycharm": {
     "name": "#%%\n"
    }
   },
   "outputs": [],
   "source": [
    "loss_ES(dS,deltas)"
   ]
  },
  {
   "cell_type": "code",
   "execution_count": null,
   "metadata": {
    "pycharm": {
     "name": "#%%\n"
    }
   },
   "outputs": [],
   "source": [
    "TransactionCost=0\n",
    "pf_loss=(callprice + kb.sum(deltas * dS,axis=-1) - kb.maximum(S0 + kb.sum(dS,axis=-1) - K,0.)-TransactionCost)#do we need a minus here?"
   ]
  },
  {
   "cell_type": "code",
   "execution_count": null,
   "metadata": {
    "pycharm": {
     "name": "#%%\n"
    }
   },
   "outputs": [],
   "source": [
    "int(alpha*pf_loss.shape[0])"
   ]
  },
  {
   "cell_type": "code",
   "execution_count": null,
   "metadata": {
    "pycharm": {
     "name": "#%%\n"
    }
   },
   "outputs": [],
   "source": [
    "tf.sort(pf_loss)[:5]"
   ]
  },
  {
   "cell_type": "code",
   "execution_count": null,
   "metadata": {
    "pycharm": {
     "name": "#%%\n"
    }
   },
   "outputs": [],
   "source": [
    "tf.math.top_k(-pf_loss,int(0.05*pf_loss.shape[0]))"
   ]
  },
  {
   "cell_type": "code",
   "execution_count": null,
   "metadata": {
    "pycharm": {
     "name": "#%%\n"
    }
   },
   "outputs": [],
   "source": [
    "lol,hej=tf.math.top_k(-pf_loss,int(0.05*pf_loss.shape[0]))"
   ]
  },
  {
   "cell_type": "code",
   "execution_count": null,
   "metadata": {
    "pycharm": {
     "name": "#%%\n"
    }
   },
   "outputs": [],
   "source": [
    "kb.mean(lol)"
   ]
  },
  {
   "cell_type": "code",
   "execution_count": null,
   "metadata": {
    "pycharm": {
     "name": "#%%\n"
    }
   },
   "outputs": [],
   "source": [
    "hej"
   ]
  },
  {
   "cell_type": "code",
   "execution_count": null,
   "metadata": {
    "pycharm": {
     "name": "#%%\n"
    }
   },
   "outputs": [],
   "source": [
    "pf_losss=-(callprice + kb.sum(deltas * dS,axis=-1) - kb.maximum(S0 + kb.sum(dS,axis=-1) - K,0.)-TransactionCost)\n",
    "quantiles,idx=tf.math.top_k(pf_losss,tf.cast((alpha)*pf_loss.shape[0], tf.int32))\n",
    "ES_alphas=kb.mean(quantiles)\n",
    "ES_alphas"
   ]
  },
  {
   "cell_type": "code",
   "execution_count": null,
   "metadata": {
    "pycharm": {
     "name": "#%%\n"
    }
   },
   "outputs": [],
   "source": []
  },
  {
   "cell_type": "code",
   "execution_count": null,
   "metadata": {
    "pycharm": {
     "name": "#%%\n"
    }
   },
   "outputs": [],
   "source": [
    "pf_loss"
   ]
  },
  {
   "cell_type": "code",
   "execution_count": null,
   "metadata": {
    "pycharm": {
     "name": "#%%\n"
    }
   },
   "outputs": [],
   "source": [
    "    if TC==True:\n",
    "        TransactionCost=kb.mean(Proportional_cost(y_true,y_pred))\n",
    "    else:\n",
    "        TransactionCost=0\n",
    "    #we have a minus in front b/c we need the loss\n",
    "    pf_loss=-(callprice + kb.sum(deltas * dS,axis=-1) - kb.maximum(S0 + kb.sum(dS,axis=-1) - K,0.)-TransactionCost)\n",
    "    quantile,idx=tf.math.top_k(pf_loss,int(0.05*pf_loss.shape[0]))\n",
    "    ES_alpha=kb.mean(quantile)\n",
    "    #sortet = tf.sort(pf_loss)\n",
    "    #cutoff = int(tfnp.floor(alpha*sortet.shape[0]))\n",
    "    #quantile = sortet[:cutoff]\n",
    "    #ES_alpha = -kb.mean(quantile)\n",
    "    ES_alpha"
   ]
  },
  {
   "cell_type": "code",
   "execution_count": null,
   "metadata": {
    "pycharm": {
     "name": "#%%\n"
    }
   },
   "outputs": [],
   "source": [
    "tf.cast(ES_alpha,dtype='float64')"
   ]
  },
  {
   "cell_type": "code",
   "execution_count": null,
   "metadata": {
    "pycharm": {
     "name": "#%%\n"
    }
   },
   "outputs": [],
   "source": [
    "tf.repeat(ES_alpha,pf_loss.shape[0])"
   ]
  },
  {
   "cell_type": "code",
   "execution_count": null,
   "metadata": {
    "pycharm": {
     "name": "#%%\n"
    }
   },
   "outputs": [],
   "source": []
  },
  {
   "cell_type": "code",
   "execution_count": null,
   "metadata": {
    "pycharm": {
     "name": "#%%\n"
    }
   },
   "outputs": [],
   "source": [
    "pf_loss[0]=ES_alpha"
   ]
  },
  {
   "cell_type": "code",
   "execution_count": null,
   "metadata": {
    "pycharm": {
     "name": "#%%\n"
    }
   },
   "outputs": [],
   "source": [
    "tf.reduce_mean(quantile)"
   ]
  },
  {
   "cell_type": "code",
   "execution_count": null,
   "metadata": {
    "pycharm": {
     "name": "#%%\n"
    }
   },
   "outputs": [],
   "source": [
    "quantile"
   ]
  },
  {
   "cell_type": "code",
   "execution_count": null,
   "metadata": {
    "pycharm": {
     "name": "#%%\n"
    }
   },
   "outputs": [],
   "source": [
    "alpha=0.05"
   ]
  },
  {
   "cell_type": "code",
   "execution_count": null,
   "metadata": {
    "pycharm": {
     "name": "#%%\n"
    }
   },
   "outputs": [],
   "source": [
    "loss_ES(dS,deltas)"
   ]
  },
  {
   "cell_type": "code",
   "execution_count": null,
   "metadata": {
    "pycharm": {
     "name": "#%%\n"
    }
   },
   "outputs": [],
   "source": [
    "loss_ES(dS,deltas)"
   ]
  },
  {
   "cell_type": "code",
   "execution_count": null,
   "metadata": {
    "pycharm": {
     "name": "#%%\n"
    }
   },
   "outputs": [],
   "source": [
    "y_pred=deltas\n",
    "y_true=dS"
   ]
  },
  {
   "cell_type": "code",
   "execution_count": null,
   "metadata": {
    "pycharm": {
     "name": "#%%\n"
    }
   },
   "outputs": [],
   "source": [
    "pf_loss=(callprice + kb.sum(y_pred * y_true,axis=-1) - kb.maximum(S0 + kb.sum(y_true,axis=-1) - K,0.)-TransactionCost)#do we need a minus here?\n",
    "sortet = tf.sort(pf_loss)\n",
    "cutoff = int(tfnp.floor(alpha*sortet.shape[0]))\n",
    "quantile = sortet[:cutoff]\n",
    "ES_alpha = -kb.mean(quantile)\n",
    "ES_alpha"
   ]
  },
  {
   "cell_type": "code",
   "execution_count": null,
   "metadata": {
    "pycharm": {
     "name": "#%%\n"
    }
   },
   "outputs": [],
   "source": [
    "quantile"
   ]
  },
  {
   "cell_type": "code",
   "execution_count": null,
   "metadata": {
    "pycharm": {
     "name": "#%%\n"
    }
   },
   "outputs": [],
   "source": [
    "quantiles"
   ]
  },
  {
   "cell_type": "code",
   "execution_count": null,
   "metadata": {
    "pycharm": {
     "name": "#%%\n"
    }
   },
   "outputs": [],
   "source": [
    "TC"
   ]
  },
  {
   "cell_type": "code",
   "execution_count": null,
   "metadata": {
    "pycharm": {
     "name": "#%%\n"
    }
   },
   "outputs": [],
   "source": [
    "def loss_ES(y_true,y_pred):\n",
    "    if TC==True:\n",
    "        TransactionCost=kb.mean(Proportional_cost(y_true,y_pred))\n",
    "    else:\n",
    "        TransactionCost=0\n",
    "    pf_loss=(callprice + kb.sum(deltas * dS,axis=-1) - kb.maximum(S0 + kb.sum(dS,axis=-1) - K,0.)-TransactionCost)#do we need a minus here?\n",
    "    sortet = tf.sort(pf_loss)\n",
    "    cutoff = int(tfnp.floor(alpha*sortet.shape[0]))\n",
    "    quantile = sortet[:cutoff]\n",
    "    ES_alpha = -kb.mean(quantile)\n",
    "    return ES_alpha"
   ]
  },
  {
   "cell_type": "code",
   "execution_count": null,
   "metadata": {
    "pycharm": {
     "name": "#%%\n"
    }
   },
   "outputs": [],
   "source": [
    "def loss_ES_RNN(y_true,y_pred):\n",
    "    if TC==True:\n",
    "        TransactionCost=kb.mean(Proportional_cost_RNN(y_true,y_pred))\n",
    "    else:\n",
    "        TransactionCost=0\n",
    "    pf_loss = (callprice + kb.sum(y_pred * y_true,axis=(1,2)) - kb.maximum(S0 + kb.sum(y_true,axis=(1,2)) - K,0.)-TransactionCost)\n",
    "    sortet = tf.sort(pf_loss)\n",
    "    cutoff = int(tfnp.floor(alpha*sortet.shape[0]))\n",
    "    quantile = sortet[:cutoff]\n",
    "    ES_alpha = -kb.mean(quantile)"
   ]
  },
  {
   "cell_type": "code",
   "execution_count": null,
   "metadata": {
    "pycharm": {
     "name": "#%%\n"
    }
   },
   "outputs": [],
   "source": [
    "def loss_call_RNN(y_true,y_pred):\n",
    "    if TC==True:\n",
    "        TransactionCost=kb.mean(Proportional_cost_RNN(y_true,y_pred))\n",
    "    else:\n",
    "        TransactionCost=0\n",
    "    return (callprice + kb.sum(y_pred * y_true,axis=(1,2)) - kb.maximum(S0 + kb.sum(y_true,axis=(1,2)) - K,0.)-TransactionCost)**2"
   ]
  },
  {
   "cell_type": "code",
   "execution_count": null,
   "metadata": {
    "pycharm": {
     "name": "#%%\n"
    }
   },
   "outputs": [],
   "source": [
    "def loss_call(y_true,y_pred):\n",
    "    if TC==True:\n",
    "        TransactionCost=kb.mean(Proportional_cost(y_true,y_pred))\n",
    "    else:\n",
    "        TransactionCost=0\n",
    "    return (callprice + kb.sum(y_pred * y_true,axis=-1) - kb.maximum(S0 + kb.sum(y_true,axis=-1) - K,0.)-TransactionCost)**2\n",
    "#ES"
   ]
  },
  {
   "cell_type": "code",
   "execution_count": null,
   "metadata": {
    "pycharm": {
     "name": "#%%\n"
    }
   },
   "outputs": [],
   "source": [
    "# RNN_cell test\n",
    "S1,vol,S2 = HestonFullTruncation_SV(n)\n",
    "tSVinput,dSVoutput = RNN_DataInputOutput_HSV(S1,vol,S2)"
   ]
  },
  {
   "cell_type": "code",
   "execution_count": null,
   "metadata": {
    "pycharm": {
     "name": "#%%\n"
    }
   },
   "outputs": [],
   "source": [
    "m1=RNN_cell('linear',3,2,loss_call_RNN)"
   ]
  },
  {
   "cell_type": "code",
   "execution_count": null,
   "metadata": {
    "pycharm": {
     "name": "#%%\n"
    }
   },
   "outputs": [],
   "source": [
    "m1.summary()"
   ]
  },
  {
   "cell_type": "code",
   "execution_count": null,
   "metadata": {
    "pycharm": {
     "name": "#%%\n"
    }
   },
   "outputs": [],
   "source": [
    "m1.summary()"
   ]
  },
  {
   "cell_type": "code",
   "execution_count": null,
   "metadata": {
    "pycharm": {
     "name": "#%%\n"
    }
   },
   "outputs": [],
   "source": [
    "#maybe this is in fact what we want.\n",
    "def RNN_cell_plus_out(output_activation,Input_shape,Output_shape,loss_function):\n",
    "    n_unit=[100,100,100,Output_shape]\n",
    "    act=['relu','relu','relu',output_activation]\n",
    "    n_layers=4\n",
    "    inputs = Input(shape=(steps,Input_shape))\n",
    "    cells=[tf.keras.layers.SimpleRNNCell(n_unit[i],activation=act[i]) for i in range(n_layers)]\n",
    "    outputs = tf.keras.layers.RNN(tf.keras.layers.StackedRNNCells(cells),\n",
    "                                  stateful=False, \n",
    "                                  return_sequences=True, \n",
    "                                  return_state=False)(inputs)\n",
    "    model=Model(inputs=inputs, outputs=outputs)\n",
    "    model.compile(optimizer='adam',loss=loss_function)\n",
    "    return model"
   ]
  },
  {
   "cell_type": "code",
   "execution_count": null,
   "metadata": {
    "pycharm": {
     "name": "#%%\n"
    }
   },
   "outputs": [],
   "source": [
    "m2=RNN_cell_plus_out('linear',3,2,loss_call_RNN)"
   ]
  },
  {
   "cell_type": "code",
   "execution_count": null,
   "metadata": {
    "pycharm": {
     "name": "#%%\n"
    }
   },
   "outputs": [],
   "source": [
    "m2.fit(tSVinput,dSVoutput,batch_size=100,epochs=50)"
   ]
  },
  {
   "cell_type": "code",
   "execution_count": null,
   "metadata": {
    "pycharm": {
     "name": "#%%\n"
    }
   },
   "outputs": [],
   "source": []
  },
  {
   "cell_type": "code",
   "execution_count": null,
   "metadata": {
    "pycharm": {
     "name": "#%%\n"
    }
   },
   "outputs": [],
   "source": [
    "model.summary()"
   ]
  },
  {
   "cell_type": "code",
   "execution_count": null,
   "metadata": {
    "pycharm": {
     "name": "#%%\n"
    }
   },
   "outputs": [],
   "source": [
    "def RNN_cell(output_activation,Input_shape,Output_shape,loss_function):\n",
    "    n_units=100\n",
    "    n_layers=1\n",
    "    inputs = Input(shape=(steps,Input_shape))\n",
    "    cells=[tf.keras.layers.SimpleRNNCell(n_units,activation='relu') for _ in range(n_layers)]\n",
    "    outputs = tf.keras.layers.RNN(tf.keras.layers.StackedRNNCells(cells),\n",
    "                              stateful=False, \n",
    "                              return_sequences=True, \n",
    "                              return_state=False)(inputs)\n",
    "    outputs = tf.keras.layers.Dense(Output_shape,activation=output_activation)(outputs)\n",
    "    model=Model(inputs=inputs, outputs=outputs)\n",
    "    model.compile(optimizer='adam',loss=loss_function)\n",
    "    return model"
   ]
  }
 ],
 "metadata": {
  "kernelspec": {
   "display_name": "Python 3",
   "language": "python",
   "name": "python3"
  },
  "language_info": {
   "codemirror_mode": {
    "name": "ipython",
    "version": 3
   },
   "file_extension": ".py",
   "mimetype": "text/x-python",
   "name": "python",
   "nbconvert_exporter": "python",
   "pygments_lexer": "ipython3",
   "version": "3.8.5"
  }
 },
 "nbformat": 4,
 "nbformat_minor": 4
}