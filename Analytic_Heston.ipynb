{
 "cells": [
  {
   "cell_type": "code",
   "execution_count": 1,
   "outputs": [],
   "source": [
    "#function used to calculate the L(t,v) process\n",
    "def L(t,v):\n",
    "    return (v-theta)/kappa*(1-np.exp(-kappa*(T-t)))+theta*(T-t)\n",
    "\n",
    "#the derivative of L wrt. v\n",
    "def dL(t):\n",
    "    return (1-np.exp(-kappa*(T-t)))/kappa\n",
    "\n",
    "#analytic deltas in Heston model with Swap\n",
    "def delta12(t,v,s):\n",
    "    timetoexp=T-t\n",
    "    delta1 = HestonFourier(spot=s,timetoexp=timetoexp,strike=K,r=r,divyield=divyield,V=v,theta=theta,kappa=kappa,epsilon=sigma,rho=rho,greek=2)\n",
    "    delta2 = HestonFourier(spot=s,timetoexp=timetoexp,strike=K,r=r,divyield=divyield,V=v,theta=theta,kappa=kappa,epsilon=sigma,rho=rho,greek=4)/dL(t=t)\n",
    "    return delta1,delta2\n",
    "\n",
    "\n",
    "#def delta12(spot,t,T,strike,r,divyield,V,theta,kappa,sigma,rho):\n",
    "#    timetoexp=T-t\n",
    "#    delta1 = HestonFourier(spot=S0, timetoexp=timetoexp, strike=strike, r=r, divyield=divyield, V=V, theta=theta, kappa=kappa, epsilon=sigma, rho=rho, greek=2)\n",
    "#    delta2 = HestonFourier(spot=S0, timetoexp=timetoexp, strike=strike, r=r, divyield=divyield, V=V, theta=theta, kappa=kappa, epsilon=sigma, rho=rho, greek=4)/dL(t=t)\n",
    "#    return delta1,delta2\n",
    "\n",
    "#delta_t^1\n",
    "#def delta1(spot,t,T,strike,r,divyield,V,theta,kappa,sigma,rho):\n",
    "#    timetoexp=T-t\n",
    "#    return HestonFourier(spot=S0, timetoexp=timetoexp, strike=strike, r=r, divyield=divyield, V=V, theta=theta, kappa=kappa, epsilon=sigma, rho=rho, greek=2)\n",
    "\n",
    "#delta_t^2\n",
    "#def delta2(spot,t,T,strike,r,divyield,V,theta,kappa,sigma,rho):\n",
    "#    timetoexp=T-t\n",
    "#    return HestonFourier(spot=S0, timetoexp=timetoexp, strike=strike, r=r, divyield=divyield, V=V, theta=theta, kappa=kappa, epsilon=sigma, rho=rho, greek=4)/dL(t=t)"
   ],
   "metadata": {
    "collapsed": false,
    "pycharm": {
     "name": "#%%\n"
    }
   }
  }
 ],
 "metadata": {
  "kernelspec": {
   "display_name": "Python 3",
   "language": "python",
   "name": "python3"
  },
  "language_info": {
   "codemirror_mode": {
    "name": "ipython",
    "version": 3
   },
   "file_extension": ".py",
   "mimetype": "text/x-python",
   "name": "python",
   "nbconvert_exporter": "python",
   "pygments_lexer": "ipython3",
   "version": "3.8.5"
  }
 },
 "nbformat": 4,
 "nbformat_minor": 4
}